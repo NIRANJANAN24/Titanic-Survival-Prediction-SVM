{
 "cells": [
  {
   "cell_type": "code",
   "execution_count": 1,
   "id": "213b6cd2",
   "metadata": {
    "execution": {
     "iopub.execute_input": "2023-07-06T06:51:37.447520Z",
     "iopub.status.busy": "2023-07-06T06:51:37.446847Z",
     "iopub.status.idle": "2023-07-06T06:51:37.460584Z",
     "shell.execute_reply": "2023-07-06T06:51:37.459567Z"
    },
    "id": "lNJDlUArcQcv",
    "outputId": "62dca58b-aa29-4fda-c041-6d4c66303739",
    "papermill": {
     "duration": 0.037535,
     "end_time": "2023-07-06T06:51:37.463171",
     "exception": false,
     "start_time": "2023-07-06T06:51:37.425636",
     "status": "completed"
    },
    "tags": []
   },
   "outputs": [
    {
     "name": "stdout",
     "output_type": "stream",
     "text": [
      "/kaggle/input/titanic/train.csv\n",
      "/kaggle/input/titanic/test.csv\n",
      "/kaggle/input/titanic/gender_submission.csv\n"
     ]
    }
   ],
   "source": [
    "# This Python 3 environment comes with many helpful analytics libraries installed\n",
    "# It is defined by the kaggle/python Docker image: https://github.com/kaggle/docker-python\n",
    "# For example, here's several helpful packages to load\n",
    "\n",
    "import numpy as np # linear algebra\n",
    "import pandas as pd # data processing, CSV file I/O (e.g. pd.read_csv)\n",
    "\n",
    "# Input data files are available in the read-only \"../input/\" directory\n",
    "# For example, running this (by clicking run or pressing Shift+Enter) will list all files under the input directory\n",
    "\n",
    "import os\n",
    "for dirname, _, filenames in os.walk('/kaggle/input'):\n",
    "    for filename in filenames:\n",
    "        print(os.path.join(dirname, filename))\n",
    "\n",
    "# You can write up to 20GB to the current directory (/kaggle/working/) that gets preserved as output when you create a version using \"Save & Run All\" \n",
    "# You can also write temporary files to /kaggle/temp/, but they won't be saved outside of the current session"
   ]
  },
  {
   "cell_type": "markdown",
   "id": "979b1fc9",
   "metadata": {
    "id": "XZZAQTq5e058",
    "papermill": {
     "duration": 0.018567,
     "end_time": "2023-07-06T06:51:37.500729",
     "exception": false,
     "start_time": "2023-07-06T06:51:37.482162",
     "status": "completed"
    },
    "tags": []
   },
   "source": [
    "## Importing the libraries"
   ]
  },
  {
   "cell_type": "code",
   "execution_count": 2,
   "id": "5907bc04",
   "metadata": {
    "execution": {
     "iopub.execute_input": "2023-07-06T06:51:37.540426Z",
     "iopub.status.busy": "2023-07-06T06:51:37.539751Z",
     "iopub.status.idle": "2023-07-06T06:51:38.917340Z",
     "shell.execute_reply": "2023-07-06T06:51:38.916168Z"
    },
    "id": "0gqOvPQfbNg5",
    "papermill": {
     "duration": 1.400422,
     "end_time": "2023-07-06T06:51:38.920104",
     "exception": false,
     "start_time": "2023-07-06T06:51:37.519682",
     "status": "completed"
    },
    "tags": []
   },
   "outputs": [],
   "source": [
    "import numpy as np\n",
    "import pandas as pd\n",
    "import seaborn as sns\n",
    "import matplotlib.pyplot as plt\n",
    "%matplotlib inline"
   ]
  },
  {
   "cell_type": "markdown",
   "id": "b432045c",
   "metadata": {
    "id": "HbbPEcI6iWAP",
    "papermill": {
     "duration": 0.01878,
     "end_time": "2023-07-06T06:51:38.957936",
     "exception": false,
     "start_time": "2023-07-06T06:51:38.939156",
     "status": "completed"
    },
    "tags": []
   },
   "source": [
    "## Extracting the info from the dataset "
   ]
  },
  {
   "cell_type": "code",
   "execution_count": 3,
   "id": "e8299d38",
   "metadata": {
    "execution": {
     "iopub.execute_input": "2023-07-06T06:51:38.997441Z",
     "iopub.status.busy": "2023-07-06T06:51:38.997004Z",
     "iopub.status.idle": "2023-07-06T06:51:39.029890Z",
     "shell.execute_reply": "2023-07-06T06:51:39.028828Z"
    },
    "id": "qq9MS35ybvHw",
    "papermill": {
     "duration": 0.055931,
     "end_time": "2023-07-06T06:51:39.032636",
     "exception": false,
     "start_time": "2023-07-06T06:51:38.976705",
     "status": "completed"
    },
    "tags": []
   },
   "outputs": [],
   "source": [
    "df= pd.read_csv('/kaggle/input/titanic/train.csv')\n",
    "df_test=pd.read_csv('/kaggle/input/titanic/test.csv')"
   ]
  },
  {
   "cell_type": "code",
   "execution_count": 4,
   "id": "86b887e1",
   "metadata": {
    "execution": {
     "iopub.execute_input": "2023-07-06T06:51:39.072913Z",
     "iopub.status.busy": "2023-07-06T06:51:39.072513Z",
     "iopub.status.idle": "2023-07-06T06:51:39.078579Z",
     "shell.execute_reply": "2023-07-06T06:51:39.077393Z"
    },
    "id": "cRUDR-Ksd26j",
    "outputId": "6ec1ad2b-6ebb-49f1-ffd8-cc75f13da8c6",
    "papermill": {
     "duration": 0.028961,
     "end_time": "2023-07-06T06:51:39.081073",
     "exception": false,
     "start_time": "2023-07-06T06:51:39.052112",
     "status": "completed"
    },
    "tags": []
   },
   "outputs": [
    {
     "name": "stdout",
     "output_type": "stream",
     "text": [
      "Index(['PassengerId', 'Survived', 'Pclass', 'Name', 'Sex', 'Age', 'SibSp',\n",
      "       'Parch', 'Ticket', 'Fare', 'Cabin', 'Embarked'],\n",
      "      dtype='object')\n",
      "12 features are present in the training dataset\n"
     ]
    }
   ],
   "source": [
    "print(df.columns)\n",
    "print(len(df.columns),'features are present in the training dataset')"
   ]
  },
  {
   "cell_type": "code",
   "execution_count": 5,
   "id": "bab135dd",
   "metadata": {
    "execution": {
     "iopub.execute_input": "2023-07-06T06:51:39.121669Z",
     "iopub.status.busy": "2023-07-06T06:51:39.121287Z",
     "iopub.status.idle": "2023-07-06T06:51:39.127255Z",
     "shell.execute_reply": "2023-07-06T06:51:39.126195Z"
    },
    "id": "kc3r79rVd_H2",
    "outputId": "db7a1143-4c3d-4040-8195-c10b74702449",
    "papermill": {
     "duration": 0.029654,
     "end_time": "2023-07-06T06:51:39.130297",
     "exception": false,
     "start_time": "2023-07-06T06:51:39.100643",
     "status": "completed"
    },
    "tags": []
   },
   "outputs": [
    {
     "name": "stdout",
     "output_type": "stream",
     "text": [
      "Index(['PassengerId', 'Pclass', 'Name', 'Sex', 'Age', 'SibSp', 'Parch',\n",
      "       'Ticket', 'Fare', 'Cabin', 'Embarked'],\n",
      "      dtype='object')\n",
      "12 features are present in the testing dataset\n"
     ]
    }
   ],
   "source": [
    "print(df_test.columns)\n",
    "print(len(df.columns),'features are present in the testing dataset')"
   ]
  },
  {
   "cell_type": "code",
   "execution_count": 6,
   "id": "f88b1ec2",
   "metadata": {
    "execution": {
     "iopub.execute_input": "2023-07-06T06:51:39.172922Z",
     "iopub.status.busy": "2023-07-06T06:51:39.171912Z",
     "iopub.status.idle": "2023-07-06T06:51:39.178375Z",
     "shell.execute_reply": "2023-07-06T06:51:39.177213Z"
    },
    "id": "Uwr4eHhqfWSw",
    "outputId": "3f1e63b3-a750-404e-9b1c-e51e863835fc",
    "papermill": {
     "duration": 0.03116,
     "end_time": "2023-07-06T06:51:39.180652",
     "exception": false,
     "start_time": "2023-07-06T06:51:39.149492",
     "status": "completed"
    },
    "tags": []
   },
   "outputs": [
    {
     "name": "stdout",
     "output_type": "stream",
     "text": [
      "891 records are persent in training dataset\n",
      "418 records are persent in testing dataset\n"
     ]
    }
   ],
   "source": [
    "print(len(df),\"records are persent in training dataset\")\n",
    "print(len(df_test),\"records are persent in testing dataset\")\n"
   ]
  },
  {
   "cell_type": "code",
   "execution_count": 7,
   "id": "4de9b1db",
   "metadata": {
    "execution": {
     "iopub.execute_input": "2023-07-06T06:51:39.220902Z",
     "iopub.status.busy": "2023-07-06T06:51:39.220504Z",
     "iopub.status.idle": "2023-07-06T06:51:39.254265Z",
     "shell.execute_reply": "2023-07-06T06:51:39.253156Z"
    },
    "id": "t7anz1wYfp8L",
    "outputId": "cfeb08c3-49e9-43da-ac4b-4e06c8e9ed91",
    "papermill": {
     "duration": 0.057024,
     "end_time": "2023-07-06T06:51:39.257117",
     "exception": false,
     "start_time": "2023-07-06T06:51:39.200093",
     "status": "completed"
    },
    "tags": []
   },
   "outputs": [
    {
     "data": {
      "text/html": [
       "<div>\n",
       "<style scoped>\n",
       "    .dataframe tbody tr th:only-of-type {\n",
       "        vertical-align: middle;\n",
       "    }\n",
       "\n",
       "    .dataframe tbody tr th {\n",
       "        vertical-align: top;\n",
       "    }\n",
       "\n",
       "    .dataframe thead th {\n",
       "        text-align: right;\n",
       "    }\n",
       "</style>\n",
       "<table border=\"1\" class=\"dataframe\">\n",
       "  <thead>\n",
       "    <tr style=\"text-align: right;\">\n",
       "      <th></th>\n",
       "      <th>PassengerId</th>\n",
       "      <th>Survived</th>\n",
       "      <th>Pclass</th>\n",
       "      <th>Name</th>\n",
       "      <th>Sex</th>\n",
       "      <th>Age</th>\n",
       "      <th>SibSp</th>\n",
       "      <th>Parch</th>\n",
       "      <th>Ticket</th>\n",
       "      <th>Fare</th>\n",
       "      <th>Cabin</th>\n",
       "      <th>Embarked</th>\n",
       "    </tr>\n",
       "  </thead>\n",
       "  <tbody>\n",
       "    <tr>\n",
       "      <th>0</th>\n",
       "      <td>1</td>\n",
       "      <td>0</td>\n",
       "      <td>3</td>\n",
       "      <td>Braund, Mr. Owen Harris</td>\n",
       "      <td>male</td>\n",
       "      <td>22.0</td>\n",
       "      <td>1</td>\n",
       "      <td>0</td>\n",
       "      <td>A/5 21171</td>\n",
       "      <td>7.2500</td>\n",
       "      <td>NaN</td>\n",
       "      <td>S</td>\n",
       "    </tr>\n",
       "    <tr>\n",
       "      <th>1</th>\n",
       "      <td>2</td>\n",
       "      <td>1</td>\n",
       "      <td>1</td>\n",
       "      <td>Cumings, Mrs. John Bradley (Florence Briggs Th...</td>\n",
       "      <td>female</td>\n",
       "      <td>38.0</td>\n",
       "      <td>1</td>\n",
       "      <td>0</td>\n",
       "      <td>PC 17599</td>\n",
       "      <td>71.2833</td>\n",
       "      <td>C85</td>\n",
       "      <td>C</td>\n",
       "    </tr>\n",
       "    <tr>\n",
       "      <th>2</th>\n",
       "      <td>3</td>\n",
       "      <td>1</td>\n",
       "      <td>3</td>\n",
       "      <td>Heikkinen, Miss. Laina</td>\n",
       "      <td>female</td>\n",
       "      <td>26.0</td>\n",
       "      <td>0</td>\n",
       "      <td>0</td>\n",
       "      <td>STON/O2. 3101282</td>\n",
       "      <td>7.9250</td>\n",
       "      <td>NaN</td>\n",
       "      <td>S</td>\n",
       "    </tr>\n",
       "    <tr>\n",
       "      <th>3</th>\n",
       "      <td>4</td>\n",
       "      <td>1</td>\n",
       "      <td>1</td>\n",
       "      <td>Futrelle, Mrs. Jacques Heath (Lily May Peel)</td>\n",
       "      <td>female</td>\n",
       "      <td>35.0</td>\n",
       "      <td>1</td>\n",
       "      <td>0</td>\n",
       "      <td>113803</td>\n",
       "      <td>53.1000</td>\n",
       "      <td>C123</td>\n",
       "      <td>S</td>\n",
       "    </tr>\n",
       "    <tr>\n",
       "      <th>4</th>\n",
       "      <td>5</td>\n",
       "      <td>0</td>\n",
       "      <td>3</td>\n",
       "      <td>Allen, Mr. William Henry</td>\n",
       "      <td>male</td>\n",
       "      <td>35.0</td>\n",
       "      <td>0</td>\n",
       "      <td>0</td>\n",
       "      <td>373450</td>\n",
       "      <td>8.0500</td>\n",
       "      <td>NaN</td>\n",
       "      <td>S</td>\n",
       "    </tr>\n",
       "  </tbody>\n",
       "</table>\n",
       "</div>"
      ],
      "text/plain": [
       "   PassengerId  Survived  Pclass  \\\n",
       "0            1         0       3   \n",
       "1            2         1       1   \n",
       "2            3         1       3   \n",
       "3            4         1       1   \n",
       "4            5         0       3   \n",
       "\n",
       "                                                Name     Sex   Age  SibSp  \\\n",
       "0                            Braund, Mr. Owen Harris    male  22.0      1   \n",
       "1  Cumings, Mrs. John Bradley (Florence Briggs Th...  female  38.0      1   \n",
       "2                             Heikkinen, Miss. Laina  female  26.0      0   \n",
       "3       Futrelle, Mrs. Jacques Heath (Lily May Peel)  female  35.0      1   \n",
       "4                           Allen, Mr. William Henry    male  35.0      0   \n",
       "\n",
       "   Parch            Ticket     Fare Cabin Embarked  \n",
       "0      0         A/5 21171   7.2500   NaN        S  \n",
       "1      0          PC 17599  71.2833   C85        C  \n",
       "2      0  STON/O2. 3101282   7.9250   NaN        S  \n",
       "3      0            113803  53.1000  C123        S  \n",
       "4      0            373450   8.0500   NaN        S  "
      ]
     },
     "execution_count": 7,
     "metadata": {},
     "output_type": "execute_result"
    }
   ],
   "source": [
    "df.head()"
   ]
  },
  {
   "cell_type": "code",
   "execution_count": 8,
   "id": "6cf908f5",
   "metadata": {
    "execution": {
     "iopub.execute_input": "2023-07-06T06:51:39.298361Z",
     "iopub.status.busy": "2023-07-06T06:51:39.297733Z",
     "iopub.status.idle": "2023-07-06T06:51:39.313302Z",
     "shell.execute_reply": "2023-07-06T06:51:39.312518Z"
    },
    "id": "K7mtaEJ2ivge",
    "outputId": "1314f410-d4e3-4602-9bfa-e6f10317bb14",
    "papermill": {
     "duration": 0.038139,
     "end_time": "2023-07-06T06:51:39.315246",
     "exception": false,
     "start_time": "2023-07-06T06:51:39.277107",
     "status": "completed"
    },
    "tags": []
   },
   "outputs": [
    {
     "data": {
      "text/html": [
       "<div>\n",
       "<style scoped>\n",
       "    .dataframe tbody tr th:only-of-type {\n",
       "        vertical-align: middle;\n",
       "    }\n",
       "\n",
       "    .dataframe tbody tr th {\n",
       "        vertical-align: top;\n",
       "    }\n",
       "\n",
       "    .dataframe thead th {\n",
       "        text-align: right;\n",
       "    }\n",
       "</style>\n",
       "<table border=\"1\" class=\"dataframe\">\n",
       "  <thead>\n",
       "    <tr style=\"text-align: right;\">\n",
       "      <th></th>\n",
       "      <th>PassengerId</th>\n",
       "      <th>Pclass</th>\n",
       "      <th>Name</th>\n",
       "      <th>Sex</th>\n",
       "      <th>Age</th>\n",
       "      <th>SibSp</th>\n",
       "      <th>Parch</th>\n",
       "      <th>Ticket</th>\n",
       "      <th>Fare</th>\n",
       "      <th>Cabin</th>\n",
       "      <th>Embarked</th>\n",
       "    </tr>\n",
       "  </thead>\n",
       "  <tbody>\n",
       "    <tr>\n",
       "      <th>0</th>\n",
       "      <td>892</td>\n",
       "      <td>3</td>\n",
       "      <td>Kelly, Mr. James</td>\n",
       "      <td>male</td>\n",
       "      <td>34.5</td>\n",
       "      <td>0</td>\n",
       "      <td>0</td>\n",
       "      <td>330911</td>\n",
       "      <td>7.8292</td>\n",
       "      <td>NaN</td>\n",
       "      <td>Q</td>\n",
       "    </tr>\n",
       "    <tr>\n",
       "      <th>1</th>\n",
       "      <td>893</td>\n",
       "      <td>3</td>\n",
       "      <td>Wilkes, Mrs. James (Ellen Needs)</td>\n",
       "      <td>female</td>\n",
       "      <td>47.0</td>\n",
       "      <td>1</td>\n",
       "      <td>0</td>\n",
       "      <td>363272</td>\n",
       "      <td>7.0000</td>\n",
       "      <td>NaN</td>\n",
       "      <td>S</td>\n",
       "    </tr>\n",
       "    <tr>\n",
       "      <th>2</th>\n",
       "      <td>894</td>\n",
       "      <td>2</td>\n",
       "      <td>Myles, Mr. Thomas Francis</td>\n",
       "      <td>male</td>\n",
       "      <td>62.0</td>\n",
       "      <td>0</td>\n",
       "      <td>0</td>\n",
       "      <td>240276</td>\n",
       "      <td>9.6875</td>\n",
       "      <td>NaN</td>\n",
       "      <td>Q</td>\n",
       "    </tr>\n",
       "    <tr>\n",
       "      <th>3</th>\n",
       "      <td>895</td>\n",
       "      <td>3</td>\n",
       "      <td>Wirz, Mr. Albert</td>\n",
       "      <td>male</td>\n",
       "      <td>27.0</td>\n",
       "      <td>0</td>\n",
       "      <td>0</td>\n",
       "      <td>315154</td>\n",
       "      <td>8.6625</td>\n",
       "      <td>NaN</td>\n",
       "      <td>S</td>\n",
       "    </tr>\n",
       "    <tr>\n",
       "      <th>4</th>\n",
       "      <td>896</td>\n",
       "      <td>3</td>\n",
       "      <td>Hirvonen, Mrs. Alexander (Helga E Lindqvist)</td>\n",
       "      <td>female</td>\n",
       "      <td>22.0</td>\n",
       "      <td>1</td>\n",
       "      <td>1</td>\n",
       "      <td>3101298</td>\n",
       "      <td>12.2875</td>\n",
       "      <td>NaN</td>\n",
       "      <td>S</td>\n",
       "    </tr>\n",
       "  </tbody>\n",
       "</table>\n",
       "</div>"
      ],
      "text/plain": [
       "   PassengerId  Pclass                                          Name     Sex  \\\n",
       "0          892       3                              Kelly, Mr. James    male   \n",
       "1          893       3              Wilkes, Mrs. James (Ellen Needs)  female   \n",
       "2          894       2                     Myles, Mr. Thomas Francis    male   \n",
       "3          895       3                              Wirz, Mr. Albert    male   \n",
       "4          896       3  Hirvonen, Mrs. Alexander (Helga E Lindqvist)  female   \n",
       "\n",
       "    Age  SibSp  Parch   Ticket     Fare Cabin Embarked  \n",
       "0  34.5      0      0   330911   7.8292   NaN        Q  \n",
       "1  47.0      1      0   363272   7.0000   NaN        S  \n",
       "2  62.0      0      0   240276   9.6875   NaN        Q  \n",
       "3  27.0      0      0   315154   8.6625   NaN        S  \n",
       "4  22.0      1      1  3101298  12.2875   NaN        S  "
      ]
     },
     "execution_count": 8,
     "metadata": {},
     "output_type": "execute_result"
    }
   ],
   "source": [
    "df_test.head()"
   ]
  },
  {
   "cell_type": "code",
   "execution_count": 9,
   "id": "cfb647c9",
   "metadata": {
    "execution": {
     "iopub.execute_input": "2023-07-06T06:51:39.357081Z",
     "iopub.status.busy": "2023-07-06T06:51:39.356681Z",
     "iopub.status.idle": "2023-07-06T06:51:39.362479Z",
     "shell.execute_reply": "2023-07-06T06:51:39.361432Z"
    },
    "id": "XCiqZZkLjOMZ",
    "outputId": "8c788c80-af3e-48c8-8f96-3ff67357698e",
    "papermill": {
     "duration": 0.030331,
     "end_time": "2023-07-06T06:51:39.365313",
     "exception": false,
     "start_time": "2023-07-06T06:51:39.334982",
     "status": "completed"
    },
    "tags": []
   },
   "outputs": [
    {
     "name": "stdout",
     "output_type": "stream",
     "text": [
      "(891, 12) shape of training dataset\n",
      "(418, 11) shape of testing dataset\n"
     ]
    }
   ],
   "source": [
    "print(df.shape,\"shape of training dataset\")\n",
    "print(df_test.shape,\"shape of testing dataset\")\n"
   ]
  },
  {
   "cell_type": "code",
   "execution_count": 10,
   "id": "6e37174e",
   "metadata": {
    "execution": {
     "iopub.execute_input": "2023-07-06T06:51:39.406761Z",
     "iopub.status.busy": "2023-07-06T06:51:39.406408Z",
     "iopub.status.idle": "2023-07-06T06:51:39.433327Z",
     "shell.execute_reply": "2023-07-06T06:51:39.432215Z"
    },
    "id": "Dl8OVXMKkEQs",
    "outputId": "1bf66b92-5f12-443d-8394-e3245856f2fb",
    "papermill": {
     "duration": 0.050785,
     "end_time": "2023-07-06T06:51:39.435997",
     "exception": false,
     "start_time": "2023-07-06T06:51:39.385212",
     "status": "completed"
    },
    "tags": []
   },
   "outputs": [
    {
     "name": "stdout",
     "output_type": "stream",
     "text": [
      "<class 'pandas.core.frame.DataFrame'>\n",
      "RangeIndex: 891 entries, 0 to 890\n",
      "Data columns (total 12 columns):\n",
      " #   Column       Non-Null Count  Dtype  \n",
      "---  ------       --------------  -----  \n",
      " 0   PassengerId  891 non-null    int64  \n",
      " 1   Survived     891 non-null    int64  \n",
      " 2   Pclass       891 non-null    int64  \n",
      " 3   Name         891 non-null    object \n",
      " 4   Sex          891 non-null    object \n",
      " 5   Age          714 non-null    float64\n",
      " 6   SibSp        891 non-null    int64  \n",
      " 7   Parch        891 non-null    int64  \n",
      " 8   Ticket       891 non-null    object \n",
      " 9   Fare         891 non-null    float64\n",
      " 10  Cabin        204 non-null    object \n",
      " 11  Embarked     889 non-null    object \n",
      "dtypes: float64(2), int64(5), object(5)\n",
      "memory usage: 83.7+ KB\n"
     ]
    }
   ],
   "source": [
    "df.info()"
   ]
  },
  {
   "cell_type": "code",
   "execution_count": 11,
   "id": "087e883e",
   "metadata": {
    "execution": {
     "iopub.execute_input": "2023-07-06T06:51:39.477770Z",
     "iopub.status.busy": "2023-07-06T06:51:39.476875Z",
     "iopub.status.idle": "2023-07-06T06:51:39.489689Z",
     "shell.execute_reply": "2023-07-06T06:51:39.488513Z"
    },
    "id": "lnV3MEJZkJpK",
    "outputId": "e6a6daf4-a3f6-4fea-88dc-5d99764b4097",
    "papermill": {
     "duration": 0.036263,
     "end_time": "2023-07-06T06:51:39.492089",
     "exception": false,
     "start_time": "2023-07-06T06:51:39.455826",
     "status": "completed"
    },
    "tags": []
   },
   "outputs": [
    {
     "name": "stdout",
     "output_type": "stream",
     "text": [
      "<class 'pandas.core.frame.DataFrame'>\n",
      "RangeIndex: 418 entries, 0 to 417\n",
      "Data columns (total 11 columns):\n",
      " #   Column       Non-Null Count  Dtype  \n",
      "---  ------       --------------  -----  \n",
      " 0   PassengerId  418 non-null    int64  \n",
      " 1   Pclass       418 non-null    int64  \n",
      " 2   Name         418 non-null    object \n",
      " 3   Sex          418 non-null    object \n",
      " 4   Age          332 non-null    float64\n",
      " 5   SibSp        418 non-null    int64  \n",
      " 6   Parch        418 non-null    int64  \n",
      " 7   Ticket       418 non-null    object \n",
      " 8   Fare         417 non-null    float64\n",
      " 9   Cabin        91 non-null     object \n",
      " 10  Embarked     418 non-null    object \n",
      "dtypes: float64(2), int64(4), object(5)\n",
      "memory usage: 36.0+ KB\n"
     ]
    }
   ],
   "source": [
    "df_test.info()"
   ]
  },
  {
   "cell_type": "markdown",
   "id": "36923265",
   "metadata": {
    "id": "3m-K0k5-h1CL",
    "papermill": {
     "duration": 0.019667,
     "end_time": "2023-07-06T06:51:39.532048",
     "exception": false,
     "start_time": "2023-07-06T06:51:39.512381",
     "status": "completed"
    },
    "tags": []
   },
   "source": [
    "## Data pre-processing"
   ]
  },
  {
   "cell_type": "code",
   "execution_count": 12,
   "id": "a387121e",
   "metadata": {
    "execution": {
     "iopub.execute_input": "2023-07-06T06:51:39.574371Z",
     "iopub.status.busy": "2023-07-06T06:51:39.573657Z",
     "iopub.status.idle": "2023-07-06T06:51:39.585247Z",
     "shell.execute_reply": "2023-07-06T06:51:39.584173Z"
    },
    "id": "4yJC7r3Prz9K",
    "outputId": "0020e0be-061c-4c3a-91b3-295ad9eec97f",
    "papermill": {
     "duration": 0.035426,
     "end_time": "2023-07-06T06:51:39.587744",
     "exception": false,
     "start_time": "2023-07-06T06:51:39.552318",
     "status": "completed"
    },
    "tags": []
   },
   "outputs": [
    {
     "data": {
      "text/plain": [
       "0"
      ]
     },
     "execution_count": 12,
     "metadata": {},
     "output_type": "execute_result"
    }
   ],
   "source": [
    "df.duplicated().sum()"
   ]
  },
  {
   "cell_type": "code",
   "execution_count": 13,
   "id": "39e5d31f",
   "metadata": {
    "execution": {
     "iopub.execute_input": "2023-07-06T06:51:39.631407Z",
     "iopub.status.busy": "2023-07-06T06:51:39.630992Z",
     "iopub.status.idle": "2023-07-06T06:51:39.640651Z",
     "shell.execute_reply": "2023-07-06T06:51:39.639541Z"
    },
    "id": "SBt2B1-kshv1",
    "outputId": "0f152ed3-643f-489c-d558-f800dbeb3d8b",
    "papermill": {
     "duration": 0.034307,
     "end_time": "2023-07-06T06:51:39.643027",
     "exception": false,
     "start_time": "2023-07-06T06:51:39.608720",
     "status": "completed"
    },
    "tags": []
   },
   "outputs": [
    {
     "data": {
      "text/plain": [
       "0"
      ]
     },
     "execution_count": 13,
     "metadata": {},
     "output_type": "execute_result"
    }
   ],
   "source": [
    "df_test.duplicated().sum()\n"
   ]
  },
  {
   "cell_type": "code",
   "execution_count": 14,
   "id": "d6d7753e",
   "metadata": {
    "execution": {
     "iopub.execute_input": "2023-07-06T06:51:39.686374Z",
     "iopub.status.busy": "2023-07-06T06:51:39.685586Z",
     "iopub.status.idle": "2023-07-06T06:51:39.692999Z",
     "shell.execute_reply": "2023-07-06T06:51:39.691983Z"
    },
    "id": "zNSnNooes0Na",
    "outputId": "54fdab5d-ef58-4f98-d8a1-133ae53137a1",
    "papermill": {
     "duration": 0.031673,
     "end_time": "2023-07-06T06:51:39.695348",
     "exception": false,
     "start_time": "2023-07-06T06:51:39.663675",
     "status": "completed"
    },
    "tags": []
   },
   "outputs": [
    {
     "data": {
      "text/plain": [
       "array(['male', 'female'], dtype=object)"
      ]
     },
     "execution_count": 14,
     "metadata": {},
     "output_type": "execute_result"
    }
   ],
   "source": [
    "df[\"Sex\"].unique()"
   ]
  },
  {
   "cell_type": "code",
   "execution_count": 15,
   "id": "4035f9c4",
   "metadata": {
    "execution": {
     "iopub.execute_input": "2023-07-06T06:51:39.740393Z",
     "iopub.status.busy": "2023-07-06T06:51:39.739686Z",
     "iopub.status.idle": "2023-07-06T06:51:39.746629Z",
     "shell.execute_reply": "2023-07-06T06:51:39.745700Z"
    },
    "id": "8beaxVMWs9jx",
    "outputId": "2a165cad-73fa-4cb5-f084-876c3f747be7",
    "papermill": {
     "duration": 0.031817,
     "end_time": "2023-07-06T06:51:39.748772",
     "exception": false,
     "start_time": "2023-07-06T06:51:39.716955",
     "status": "completed"
    },
    "tags": []
   },
   "outputs": [
    {
     "data": {
      "text/plain": [
       "array(['male', 'female'], dtype=object)"
      ]
     },
     "execution_count": 15,
     "metadata": {},
     "output_type": "execute_result"
    }
   ],
   "source": [
    "df_test[\"Sex\"].unique()"
   ]
  },
  {
   "cell_type": "code",
   "execution_count": 16,
   "id": "7a1b7ca2",
   "metadata": {
    "execution": {
     "iopub.execute_input": "2023-07-06T06:51:39.791853Z",
     "iopub.status.busy": "2023-07-06T06:51:39.791249Z",
     "iopub.status.idle": "2023-07-06T06:51:39.802594Z",
     "shell.execute_reply": "2023-07-06T06:51:39.801467Z"
    },
    "id": "jzIzG9ZUqoOF",
    "outputId": "2fde3ef3-d870-4060-bb76-d260b436d2e1",
    "papermill": {
     "duration": 0.035574,
     "end_time": "2023-07-06T06:51:39.804867",
     "exception": false,
     "start_time": "2023-07-06T06:51:39.769293",
     "status": "completed"
    },
    "tags": []
   },
   "outputs": [
    {
     "name": "stdout",
     "output_type": "stream",
     "text": [
      "PassengerId      0\n",
      "Survived         0\n",
      "Pclass           0\n",
      "Name             0\n",
      "Sex              0\n",
      "Age            177\n",
      "SibSp            0\n",
      "Parch            0\n",
      "Ticket           0\n",
      "Fare             0\n",
      "Cabin          687\n",
      "Embarked         2\n",
      "dtype: int64\n",
      "-----------\n",
      "PassengerId      0\n",
      "Pclass           0\n",
      "Name             0\n",
      "Sex              0\n",
      "Age             86\n",
      "SibSp            0\n",
      "Parch            0\n",
      "Ticket           0\n",
      "Fare             1\n",
      "Cabin          327\n",
      "Embarked         0\n",
      "dtype: int64\n"
     ]
    }
   ],
   "source": [
    "print(df.isnull().sum())\n",
    "print('-----------')\n",
    "print(df_test.isnull().sum())"
   ]
  },
  {
   "cell_type": "code",
   "execution_count": 17,
   "id": "033998fe",
   "metadata": {
    "execution": {
     "iopub.execute_input": "2023-07-06T06:51:39.848028Z",
     "iopub.status.busy": "2023-07-06T06:51:39.847613Z",
     "iopub.status.idle": "2023-07-06T06:51:39.860554Z",
     "shell.execute_reply": "2023-07-06T06:51:39.859457Z"
    },
    "id": "8L4lo69etnLm",
    "outputId": "a6f06a9d-9758-4dfc-8e3e-59b39d491f2f",
    "papermill": {
     "duration": 0.037161,
     "end_time": "2023-07-06T06:51:39.862911",
     "exception": false,
     "start_time": "2023-07-06T06:51:39.825750",
     "status": "completed"
    },
    "tags": []
   },
   "outputs": [
    {
     "data": {
      "text/plain": [
       "0    22.0\n",
       "1    38.0\n",
       "2    26.0\n",
       "3    35.0\n",
       "4    35.0\n",
       "5    28.0\n",
       "6    54.0\n",
       "7     2.0\n",
       "8    27.0\n",
       "9    14.0\n",
       "Name: Age, dtype: float64"
      ]
     },
     "execution_count": 17,
     "metadata": {},
     "output_type": "execute_result"
    }
   ],
   "source": [
    "df[\"Age\"] = df[\"Age\"].fillna(df[\"Age\"].median())\n",
    "df[\"Age\"].head(10)"
   ]
  },
  {
   "cell_type": "code",
   "execution_count": 18,
   "id": "1ce4b3a8",
   "metadata": {
    "execution": {
     "iopub.execute_input": "2023-07-06T06:51:39.906616Z",
     "iopub.status.busy": "2023-07-06T06:51:39.906224Z",
     "iopub.status.idle": "2023-07-06T06:51:39.917257Z",
     "shell.execute_reply": "2023-07-06T06:51:39.916188Z"
    },
    "id": "3mnpK2tkt3Or",
    "outputId": "0ca60508-3da7-4b41-e38f-52f61dd7e099",
    "papermill": {
     "duration": 0.035594,
     "end_time": "2023-07-06T06:51:39.919466",
     "exception": false,
     "start_time": "2023-07-06T06:51:39.883872",
     "status": "completed"
    },
    "tags": []
   },
   "outputs": [
    {
     "data": {
      "text/plain": [
       "0    22.0\n",
       "1    38.0\n",
       "2    26.0\n",
       "3    35.0\n",
       "4    35.0\n",
       "5    28.0\n",
       "6    54.0\n",
       "7     2.0\n",
       "8    27.0\n",
       "9    14.0\n",
       "Name: Age, dtype: float64"
      ]
     },
     "execution_count": 18,
     "metadata": {},
     "output_type": "execute_result"
    }
   ],
   "source": [
    "df_test[\"Age\"] = df[\"Age\"].fillna(df[\"Age\"].median())\n",
    "df_test[\"Age\"].head(10)"
   ]
  },
  {
   "cell_type": "code",
   "execution_count": 19,
   "id": "3b8fadd0",
   "metadata": {
    "execution": {
     "iopub.execute_input": "2023-07-06T06:51:39.963045Z",
     "iopub.status.busy": "2023-07-06T06:51:39.962652Z",
     "iopub.status.idle": "2023-07-06T06:51:39.974033Z",
     "shell.execute_reply": "2023-07-06T06:51:39.972802Z"
    },
    "id": "WLr3xAUfuBvE",
    "outputId": "f82c0a3c-7315-4ce4-8547-a318acfea694",
    "papermill": {
     "duration": 0.03577,
     "end_time": "2023-07-06T06:51:39.976244",
     "exception": false,
     "start_time": "2023-07-06T06:51:39.940474",
     "status": "completed"
    },
    "tags": []
   },
   "outputs": [
    {
     "name": "stdout",
     "output_type": "stream",
     "text": [
      "PassengerId      0\n",
      "Survived         0\n",
      "Pclass           0\n",
      "Name             0\n",
      "Sex              0\n",
      "Age              0\n",
      "SibSp            0\n",
      "Parch            0\n",
      "Ticket           0\n",
      "Fare             0\n",
      "Cabin          687\n",
      "Embarked         2\n",
      "dtype: int64\n",
      "-----------\n",
      "PassengerId      0\n",
      "Pclass           0\n",
      "Name             0\n",
      "Sex              0\n",
      "Age              0\n",
      "SibSp            0\n",
      "Parch            0\n",
      "Ticket           0\n",
      "Fare             1\n",
      "Cabin          327\n",
      "Embarked         0\n",
      "dtype: int64\n"
     ]
    }
   ],
   "source": [
    "print(df.isnull().sum())\n",
    "print('-----------')\n",
    "print(df_test.isnull().sum())"
   ]
  },
  {
   "cell_type": "code",
   "execution_count": 20,
   "id": "e69900f9",
   "metadata": {
    "execution": {
     "iopub.execute_input": "2023-07-06T06:51:40.020211Z",
     "iopub.status.busy": "2023-07-06T06:51:40.019780Z",
     "iopub.status.idle": "2023-07-06T06:51:40.026481Z",
     "shell.execute_reply": "2023-07-06T06:51:40.025288Z"
    },
    "id": "FSbw3wvouZXS",
    "outputId": "2da2735e-9c61-4198-9d2d-b6d36a396940",
    "papermill": {
     "duration": 0.031433,
     "end_time": "2023-07-06T06:51:40.028808",
     "exception": false,
     "start_time": "2023-07-06T06:51:39.997375",
     "status": "completed"
    },
    "tags": []
   },
   "outputs": [
    {
     "name": "stdout",
     "output_type": "stream",
     "text": [
      "0.7710437710437711\n"
     ]
    }
   ],
   "source": [
    "print(df.Cabin.isnull().sum() / len(df))"
   ]
  },
  {
   "cell_type": "markdown",
   "id": "0631cc6e",
   "metadata": {
    "id": "T4s1HPWHua8D",
    "papermill": {
     "duration": 0.020923,
     "end_time": "2023-07-06T06:51:40.071164",
     "exception": false,
     "start_time": "2023-07-06T06:51:40.050241",
     "status": "completed"
    },
    "tags": []
   },
   "source": [
    "Almost 80% of the Cabin data is missing. That probably means only 20% of the passengers had a cabin. This feature should be dropped. "
   ]
  },
  {
   "cell_type": "code",
   "execution_count": 21,
   "id": "52c75223",
   "metadata": {
    "execution": {
     "iopub.execute_input": "2023-07-06T06:51:40.115045Z",
     "iopub.status.busy": "2023-07-06T06:51:40.114646Z",
     "iopub.status.idle": "2023-07-06T06:51:40.147908Z",
     "shell.execute_reply": "2023-07-06T06:51:40.146896Z"
    },
    "id": "9FfspsOvv76f",
    "outputId": "a24989ac-91b3-49c7-ce27-7b5d3f25dcfe",
    "papermill": {
     "duration": 0.057991,
     "end_time": "2023-07-06T06:51:40.150288",
     "exception": false,
     "start_time": "2023-07-06T06:51:40.092297",
     "status": "completed"
    },
    "tags": []
   },
   "outputs": [
    {
     "data": {
      "text/html": [
       "<div>\n",
       "<style scoped>\n",
       "    .dataframe tbody tr th:only-of-type {\n",
       "        vertical-align: middle;\n",
       "    }\n",
       "\n",
       "    .dataframe tbody tr th {\n",
       "        vertical-align: top;\n",
       "    }\n",
       "\n",
       "    .dataframe thead th {\n",
       "        text-align: right;\n",
       "    }\n",
       "</style>\n",
       "<table border=\"1\" class=\"dataframe\">\n",
       "  <thead>\n",
       "    <tr style=\"text-align: right;\">\n",
       "      <th></th>\n",
       "      <th>PassengerId</th>\n",
       "      <th>Survived</th>\n",
       "      <th>Pclass</th>\n",
       "      <th>Age</th>\n",
       "      <th>SibSp</th>\n",
       "      <th>Parch</th>\n",
       "      <th>Fare</th>\n",
       "    </tr>\n",
       "  </thead>\n",
       "  <tbody>\n",
       "    <tr>\n",
       "      <th>count</th>\n",
       "      <td>891.000000</td>\n",
       "      <td>891.000000</td>\n",
       "      <td>891.000000</td>\n",
       "      <td>891.000000</td>\n",
       "      <td>891.000000</td>\n",
       "      <td>891.000000</td>\n",
       "      <td>891.000000</td>\n",
       "    </tr>\n",
       "    <tr>\n",
       "      <th>mean</th>\n",
       "      <td>446.000000</td>\n",
       "      <td>0.383838</td>\n",
       "      <td>2.308642</td>\n",
       "      <td>29.361582</td>\n",
       "      <td>0.523008</td>\n",
       "      <td>0.381594</td>\n",
       "      <td>32.204208</td>\n",
       "    </tr>\n",
       "    <tr>\n",
       "      <th>std</th>\n",
       "      <td>257.353842</td>\n",
       "      <td>0.486592</td>\n",
       "      <td>0.836071</td>\n",
       "      <td>13.019697</td>\n",
       "      <td>1.102743</td>\n",
       "      <td>0.806057</td>\n",
       "      <td>49.693429</td>\n",
       "    </tr>\n",
       "    <tr>\n",
       "      <th>min</th>\n",
       "      <td>1.000000</td>\n",
       "      <td>0.000000</td>\n",
       "      <td>1.000000</td>\n",
       "      <td>0.420000</td>\n",
       "      <td>0.000000</td>\n",
       "      <td>0.000000</td>\n",
       "      <td>0.000000</td>\n",
       "    </tr>\n",
       "    <tr>\n",
       "      <th>25%</th>\n",
       "      <td>223.500000</td>\n",
       "      <td>0.000000</td>\n",
       "      <td>2.000000</td>\n",
       "      <td>22.000000</td>\n",
       "      <td>0.000000</td>\n",
       "      <td>0.000000</td>\n",
       "      <td>7.910400</td>\n",
       "    </tr>\n",
       "    <tr>\n",
       "      <th>50%</th>\n",
       "      <td>446.000000</td>\n",
       "      <td>0.000000</td>\n",
       "      <td>3.000000</td>\n",
       "      <td>28.000000</td>\n",
       "      <td>0.000000</td>\n",
       "      <td>0.000000</td>\n",
       "      <td>14.454200</td>\n",
       "    </tr>\n",
       "    <tr>\n",
       "      <th>75%</th>\n",
       "      <td>668.500000</td>\n",
       "      <td>1.000000</td>\n",
       "      <td>3.000000</td>\n",
       "      <td>35.000000</td>\n",
       "      <td>1.000000</td>\n",
       "      <td>0.000000</td>\n",
       "      <td>31.000000</td>\n",
       "    </tr>\n",
       "    <tr>\n",
       "      <th>max</th>\n",
       "      <td>891.000000</td>\n",
       "      <td>1.000000</td>\n",
       "      <td>3.000000</td>\n",
       "      <td>80.000000</td>\n",
       "      <td>8.000000</td>\n",
       "      <td>6.000000</td>\n",
       "      <td>512.329200</td>\n",
       "    </tr>\n",
       "  </tbody>\n",
       "</table>\n",
       "</div>"
      ],
      "text/plain": [
       "       PassengerId    Survived      Pclass         Age       SibSp  \\\n",
       "count   891.000000  891.000000  891.000000  891.000000  891.000000   \n",
       "mean    446.000000    0.383838    2.308642   29.361582    0.523008   \n",
       "std     257.353842    0.486592    0.836071   13.019697    1.102743   \n",
       "min       1.000000    0.000000    1.000000    0.420000    0.000000   \n",
       "25%     223.500000    0.000000    2.000000   22.000000    0.000000   \n",
       "50%     446.000000    0.000000    3.000000   28.000000    0.000000   \n",
       "75%     668.500000    1.000000    3.000000   35.000000    1.000000   \n",
       "max     891.000000    1.000000    3.000000   80.000000    8.000000   \n",
       "\n",
       "            Parch        Fare  \n",
       "count  891.000000  891.000000  \n",
       "mean     0.381594   32.204208  \n",
       "std      0.806057   49.693429  \n",
       "min      0.000000    0.000000  \n",
       "25%      0.000000    7.910400  \n",
       "50%      0.000000   14.454200  \n",
       "75%      0.000000   31.000000  \n",
       "max      6.000000  512.329200  "
      ]
     },
     "execution_count": 21,
     "metadata": {},
     "output_type": "execute_result"
    }
   ],
   "source": [
    "df.describe()"
   ]
  },
  {
   "cell_type": "code",
   "execution_count": 22,
   "id": "eeb268eb",
   "metadata": {
    "execution": {
     "iopub.execute_input": "2023-07-06T06:51:40.196842Z",
     "iopub.status.busy": "2023-07-06T06:51:40.196030Z",
     "iopub.status.idle": "2023-07-06T06:51:40.214404Z",
     "shell.execute_reply": "2023-07-06T06:51:40.213582Z"
    },
    "id": "h-Da-QiOwSJl",
    "outputId": "0a95db14-3b47-4a2e-89d6-0b8f5a5062e0",
    "papermill": {
     "duration": 0.043188,
     "end_time": "2023-07-06T06:51:40.216506",
     "exception": false,
     "start_time": "2023-07-06T06:51:40.173318",
     "status": "completed"
    },
    "tags": []
   },
   "outputs": [
    {
     "data": {
      "text/html": [
       "<div>\n",
       "<style scoped>\n",
       "    .dataframe tbody tr th:only-of-type {\n",
       "        vertical-align: middle;\n",
       "    }\n",
       "\n",
       "    .dataframe tbody tr th {\n",
       "        vertical-align: top;\n",
       "    }\n",
       "\n",
       "    .dataframe thead th {\n",
       "        text-align: right;\n",
       "    }\n",
       "</style>\n",
       "<table border=\"1\" class=\"dataframe\">\n",
       "  <thead>\n",
       "    <tr style=\"text-align: right;\">\n",
       "      <th></th>\n",
       "      <th>Survived</th>\n",
       "      <th>Pclass</th>\n",
       "      <th>Sex</th>\n",
       "      <th>Age</th>\n",
       "      <th>SibSp</th>\n",
       "      <th>Parch</th>\n",
       "      <th>Embarked</th>\n",
       "    </tr>\n",
       "  </thead>\n",
       "  <tbody>\n",
       "    <tr>\n",
       "      <th>0</th>\n",
       "      <td>0</td>\n",
       "      <td>3</td>\n",
       "      <td>male</td>\n",
       "      <td>22.0</td>\n",
       "      <td>1</td>\n",
       "      <td>0</td>\n",
       "      <td>S</td>\n",
       "    </tr>\n",
       "    <tr>\n",
       "      <th>1</th>\n",
       "      <td>1</td>\n",
       "      <td>1</td>\n",
       "      <td>female</td>\n",
       "      <td>38.0</td>\n",
       "      <td>1</td>\n",
       "      <td>0</td>\n",
       "      <td>C</td>\n",
       "    </tr>\n",
       "    <tr>\n",
       "      <th>2</th>\n",
       "      <td>1</td>\n",
       "      <td>3</td>\n",
       "      <td>female</td>\n",
       "      <td>26.0</td>\n",
       "      <td>0</td>\n",
       "      <td>0</td>\n",
       "      <td>S</td>\n",
       "    </tr>\n",
       "    <tr>\n",
       "      <th>3</th>\n",
       "      <td>1</td>\n",
       "      <td>1</td>\n",
       "      <td>female</td>\n",
       "      <td>35.0</td>\n",
       "      <td>1</td>\n",
       "      <td>0</td>\n",
       "      <td>S</td>\n",
       "    </tr>\n",
       "    <tr>\n",
       "      <th>4</th>\n",
       "      <td>0</td>\n",
       "      <td>3</td>\n",
       "      <td>male</td>\n",
       "      <td>35.0</td>\n",
       "      <td>0</td>\n",
       "      <td>0</td>\n",
       "      <td>S</td>\n",
       "    </tr>\n",
       "  </tbody>\n",
       "</table>\n",
       "</div>"
      ],
      "text/plain": [
       "   Survived  Pclass     Sex   Age  SibSp  Parch Embarked\n",
       "0         0       3    male  22.0      1      0        S\n",
       "1         1       1  female  38.0      1      0        C\n",
       "2         1       3  female  26.0      0      0        S\n",
       "3         1       1  female  35.0      1      0        S\n",
       "4         0       3    male  35.0      0      0        S"
      ]
     },
     "execution_count": 22,
     "metadata": {},
     "output_type": "execute_result"
    }
   ],
   "source": [
    "df.drop([\"Cabin\",\"Name\",\"Ticket\", \"Fare\", \"PassengerId\"],axis = 1, inplace = True)\n",
    "df_test.drop([\"Cabin\",\"Name\",\"Ticket\", \"Fare\", \"PassengerId\"],axis = 1, inplace = True)\n",
    "df.head()"
   ]
  },
  {
   "cell_type": "code",
   "execution_count": 23,
   "id": "5c16e9e0",
   "metadata": {
    "execution": {
     "iopub.execute_input": "2023-07-06T06:51:40.262607Z",
     "iopub.status.busy": "2023-07-06T06:51:40.262249Z",
     "iopub.status.idle": "2023-07-06T06:51:40.270585Z",
     "shell.execute_reply": "2023-07-06T06:51:40.269521Z"
    },
    "id": "Gw7OQcpYOYCz",
    "papermill": {
     "duration": 0.034483,
     "end_time": "2023-07-06T06:51:40.272906",
     "exception": false,
     "start_time": "2023-07-06T06:51:40.238423",
     "status": "completed"
    },
    "tags": []
   },
   "outputs": [],
   "source": [
    "df.Embarked=df.Embarked.map({'S':0,'C':1,'Q':2,'nan':'NaN'})\n",
    "df.Sex=df.Sex.map({'female':0,'male':1})"
   ]
  },
  {
   "cell_type": "code",
   "execution_count": 24,
   "id": "96c32f05",
   "metadata": {
    "execution": {
     "iopub.execute_input": "2023-07-06T06:51:40.318717Z",
     "iopub.status.busy": "2023-07-06T06:51:40.318308Z",
     "iopub.status.idle": "2023-07-06T06:51:40.325434Z",
     "shell.execute_reply": "2023-07-06T06:51:40.324185Z"
    },
    "id": "fgxWMWmMQmpD",
    "outputId": "609b1e07-1720-4144-dc73-a889367f5724",
    "papermill": {
     "duration": 0.032323,
     "end_time": "2023-07-06T06:51:40.327564",
     "exception": false,
     "start_time": "2023-07-06T06:51:40.295241",
     "status": "completed"
    },
    "tags": []
   },
   "outputs": [
    {
     "name": "stdout",
     "output_type": "stream",
     "text": [
      "[0 1 2 nan]\n",
      "3\n"
     ]
    }
   ],
   "source": [
    "print(df['Embarked'].unique())\n",
    "print(df['Embarked'].nunique())"
   ]
  },
  {
   "cell_type": "code",
   "execution_count": 25,
   "id": "826e0c86",
   "metadata": {
    "execution": {
     "iopub.execute_input": "2023-07-06T06:51:40.373555Z",
     "iopub.status.busy": "2023-07-06T06:51:40.373121Z",
     "iopub.status.idle": "2023-07-06T06:51:40.380302Z",
     "shell.execute_reply": "2023-07-06T06:51:40.379161Z"
    },
    "id": "CLQerCyDRJmP",
    "outputId": "a877b7ad-1801-437c-a2c1-d51eb17b19d4",
    "papermill": {
     "duration": 0.032809,
     "end_time": "2023-07-06T06:51:40.382557",
     "exception": false,
     "start_time": "2023-07-06T06:51:40.349748",
     "status": "completed"
    },
    "tags": []
   },
   "outputs": [
    {
     "name": "stdout",
     "output_type": "stream",
     "text": [
      "0    0\n",
      "Name: Embarked, dtype: object\n"
     ]
    }
   ],
   "source": [
    "Embarked = df['Embarked'].mode()\n",
    "print(Embarked)"
   ]
  },
  {
   "cell_type": "code",
   "execution_count": 26,
   "id": "ec4292e8",
   "metadata": {
    "execution": {
     "iopub.execute_input": "2023-07-06T06:51:40.428698Z",
     "iopub.status.busy": "2023-07-06T06:51:40.428327Z",
     "iopub.status.idle": "2023-07-06T06:51:40.434384Z",
     "shell.execute_reply": "2023-07-06T06:51:40.433269Z"
    },
    "id": "cVrKEbf7RUun",
    "papermill": {
     "duration": 0.032234,
     "end_time": "2023-07-06T06:51:40.436696",
     "exception": false,
     "start_time": "2023-07-06T06:51:40.404462",
     "status": "completed"
    },
    "tags": []
   },
   "outputs": [],
   "source": [
    "df['Embarked'] = df['Embarked'].fillna('0')"
   ]
  },
  {
   "cell_type": "code",
   "execution_count": 27,
   "id": "00bf9d0a",
   "metadata": {
    "execution": {
     "iopub.execute_input": "2023-07-06T06:51:40.482187Z",
     "iopub.status.busy": "2023-07-06T06:51:40.481774Z",
     "iopub.status.idle": "2023-07-06T06:51:40.491095Z",
     "shell.execute_reply": "2023-07-06T06:51:40.490162Z"
    },
    "id": "fP3EmsquRgtd",
    "outputId": "6d7e2c79-ebdf-4df7-e500-ef498ad0802b",
    "papermill": {
     "duration": 0.034481,
     "end_time": "2023-07-06T06:51:40.493093",
     "exception": false,
     "start_time": "2023-07-06T06:51:40.458612",
     "status": "completed"
    },
    "tags": []
   },
   "outputs": [
    {
     "data": {
      "text/plain": [
       "Survived    0\n",
       "Pclass      0\n",
       "Sex         0\n",
       "Age         0\n",
       "SibSp       0\n",
       "Parch       0\n",
       "Embarked    0\n",
       "dtype: int64"
      ]
     },
     "execution_count": 27,
     "metadata": {},
     "output_type": "execute_result"
    }
   ],
   "source": [
    "df.isna().sum()"
   ]
  },
  {
   "cell_type": "markdown",
   "id": "85699c79",
   "metadata": {
    "id": "2PvXbqTZl30l",
    "papermill": {
     "duration": 0.022353,
     "end_time": "2023-07-06T06:51:40.537662",
     "exception": false,
     "start_time": "2023-07-06T06:51:40.515309",
     "status": "completed"
    },
    "tags": []
   },
   "source": [
    "# EDA"
   ]
  },
  {
   "cell_type": "code",
   "execution_count": 28,
   "id": "f9737d6e",
   "metadata": {
    "execution": {
     "iopub.execute_input": "2023-07-06T06:51:40.586632Z",
     "iopub.status.busy": "2023-07-06T06:51:40.586219Z",
     "iopub.status.idle": "2023-07-06T06:51:40.603455Z",
     "shell.execute_reply": "2023-07-06T06:51:40.602367Z"
    },
    "id": "I1JvbNVWl21P",
    "outputId": "a869ca0d-9e39-47ea-8964-3a9f893b5c4a",
    "papermill": {
     "duration": 0.044772,
     "end_time": "2023-07-06T06:51:40.605781",
     "exception": false,
     "start_time": "2023-07-06T06:51:40.561009",
     "status": "completed"
    },
    "tags": []
   },
   "outputs": [
    {
     "data": {
      "text/html": [
       "<div>\n",
       "<style scoped>\n",
       "    .dataframe tbody tr th:only-of-type {\n",
       "        vertical-align: middle;\n",
       "    }\n",
       "\n",
       "    .dataframe tbody tr th {\n",
       "        vertical-align: top;\n",
       "    }\n",
       "\n",
       "    .dataframe thead th {\n",
       "        text-align: right;\n",
       "    }\n",
       "</style>\n",
       "<table border=\"1\" class=\"dataframe\">\n",
       "  <thead>\n",
       "    <tr style=\"text-align: right;\">\n",
       "      <th></th>\n",
       "      <th>Survived</th>\n",
       "    </tr>\n",
       "    <tr>\n",
       "      <th>Pclass</th>\n",
       "      <th></th>\n",
       "    </tr>\n",
       "  </thead>\n",
       "  <tbody>\n",
       "    <tr>\n",
       "      <th>1</th>\n",
       "      <td>0.629630</td>\n",
       "    </tr>\n",
       "    <tr>\n",
       "      <th>2</th>\n",
       "      <td>0.472826</td>\n",
       "    </tr>\n",
       "    <tr>\n",
       "      <th>3</th>\n",
       "      <td>0.242363</td>\n",
       "    </tr>\n",
       "  </tbody>\n",
       "</table>\n",
       "</div>"
      ],
      "text/plain": [
       "        Survived\n",
       "Pclass          \n",
       "1       0.629630\n",
       "2       0.472826\n",
       "3       0.242363"
      ]
     },
     "execution_count": 28,
     "metadata": {},
     "output_type": "execute_result"
    }
   ],
   "source": [
    "df[['Pclass', 'Survived']].groupby('Pclass').mean().sort_values(by='Survived', ascending=False)"
   ]
  },
  {
   "cell_type": "code",
   "execution_count": 29,
   "id": "cffeb4db",
   "metadata": {
    "execution": {
     "iopub.execute_input": "2023-07-06T06:51:40.653995Z",
     "iopub.status.busy": "2023-07-06T06:51:40.653584Z",
     "iopub.status.idle": "2023-07-06T06:51:40.667338Z",
     "shell.execute_reply": "2023-07-06T06:51:40.666154Z"
    },
    "id": "MnhZSPtUmDSC",
    "outputId": "65d425df-fff6-44d5-b31c-661bafc79fcf",
    "papermill": {
     "duration": 0.040932,
     "end_time": "2023-07-06T06:51:40.669846",
     "exception": false,
     "start_time": "2023-07-06T06:51:40.628914",
     "status": "completed"
    },
    "tags": []
   },
   "outputs": [
    {
     "data": {
      "text/html": [
       "<div>\n",
       "<style scoped>\n",
       "    .dataframe tbody tr th:only-of-type {\n",
       "        vertical-align: middle;\n",
       "    }\n",
       "\n",
       "    .dataframe tbody tr th {\n",
       "        vertical-align: top;\n",
       "    }\n",
       "\n",
       "    .dataframe thead th {\n",
       "        text-align: right;\n",
       "    }\n",
       "</style>\n",
       "<table border=\"1\" class=\"dataframe\">\n",
       "  <thead>\n",
       "    <tr style=\"text-align: right;\">\n",
       "      <th></th>\n",
       "      <th>Survived</th>\n",
       "    </tr>\n",
       "    <tr>\n",
       "      <th>Sex</th>\n",
       "      <th></th>\n",
       "    </tr>\n",
       "  </thead>\n",
       "  <tbody>\n",
       "    <tr>\n",
       "      <th>0</th>\n",
       "      <td>0.742038</td>\n",
       "    </tr>\n",
       "    <tr>\n",
       "      <th>1</th>\n",
       "      <td>0.188908</td>\n",
       "    </tr>\n",
       "  </tbody>\n",
       "</table>\n",
       "</div>"
      ],
      "text/plain": [
       "     Survived\n",
       "Sex          \n",
       "0    0.742038\n",
       "1    0.188908"
      ]
     },
     "execution_count": 29,
     "metadata": {},
     "output_type": "execute_result"
    }
   ],
   "source": [
    "df[['Sex', 'Survived']].groupby('Sex').mean().sort_values(by='Survived', ascending=False)"
   ]
  },
  {
   "cell_type": "code",
   "execution_count": 30,
   "id": "bbd56646",
   "metadata": {
    "execution": {
     "iopub.execute_input": "2023-07-06T06:51:40.717163Z",
     "iopub.status.busy": "2023-07-06T06:51:40.716721Z",
     "iopub.status.idle": "2023-07-06T06:51:40.731462Z",
     "shell.execute_reply": "2023-07-06T06:51:40.730335Z"
    },
    "id": "p8tc74C7Aqvf",
    "outputId": "c2b9242f-e5ef-48ce-f7c8-1e10c1318775",
    "papermill": {
     "duration": 0.040997,
     "end_time": "2023-07-06T06:51:40.733726",
     "exception": false,
     "start_time": "2023-07-06T06:51:40.692729",
     "status": "completed"
    },
    "tags": []
   },
   "outputs": [
    {
     "data": {
      "text/html": [
       "<div>\n",
       "<style scoped>\n",
       "    .dataframe tbody tr th:only-of-type {\n",
       "        vertical-align: middle;\n",
       "    }\n",
       "\n",
       "    .dataframe tbody tr th {\n",
       "        vertical-align: top;\n",
       "    }\n",
       "\n",
       "    .dataframe thead th {\n",
       "        text-align: right;\n",
       "    }\n",
       "</style>\n",
       "<table border=\"1\" class=\"dataframe\">\n",
       "  <thead>\n",
       "    <tr style=\"text-align: right;\">\n",
       "      <th></th>\n",
       "      <th>Survived</th>\n",
       "    </tr>\n",
       "    <tr>\n",
       "      <th>Embarked</th>\n",
       "      <th></th>\n",
       "    </tr>\n",
       "  </thead>\n",
       "  <tbody>\n",
       "    <tr>\n",
       "      <th>0</th>\n",
       "      <td>1.000000</td>\n",
       "    </tr>\n",
       "    <tr>\n",
       "      <th>1</th>\n",
       "      <td>0.553571</td>\n",
       "    </tr>\n",
       "    <tr>\n",
       "      <th>2</th>\n",
       "      <td>0.389610</td>\n",
       "    </tr>\n",
       "    <tr>\n",
       "      <th>0</th>\n",
       "      <td>0.336957</td>\n",
       "    </tr>\n",
       "  </tbody>\n",
       "</table>\n",
       "</div>"
      ],
      "text/plain": [
       "          Survived\n",
       "Embarked          \n",
       "0         1.000000\n",
       "1         0.553571\n",
       "2         0.389610\n",
       "0         0.336957"
      ]
     },
     "execution_count": 30,
     "metadata": {},
     "output_type": "execute_result"
    }
   ],
   "source": [
    "df[['Embarked', 'Survived']].groupby('Embarked').mean().sort_values(by='Survived', ascending=False)"
   ]
  },
  {
   "cell_type": "code",
   "execution_count": 31,
   "id": "8e906ea3",
   "metadata": {
    "execution": {
     "iopub.execute_input": "2023-07-06T06:51:40.781558Z",
     "iopub.status.busy": "2023-07-06T06:51:40.781113Z",
     "iopub.status.idle": "2023-07-06T06:51:40.795579Z",
     "shell.execute_reply": "2023-07-06T06:51:40.794444Z"
    },
    "id": "H3paGpXsAuhP",
    "outputId": "a481ec45-a983-4e73-c4e7-5f98b5b6c211",
    "papermill": {
     "duration": 0.040924,
     "end_time": "2023-07-06T06:51:40.797750",
     "exception": false,
     "start_time": "2023-07-06T06:51:40.756826",
     "status": "completed"
    },
    "tags": []
   },
   "outputs": [
    {
     "data": {
      "text/html": [
       "<div>\n",
       "<style scoped>\n",
       "    .dataframe tbody tr th:only-of-type {\n",
       "        vertical-align: middle;\n",
       "    }\n",
       "\n",
       "    .dataframe tbody tr th {\n",
       "        vertical-align: top;\n",
       "    }\n",
       "\n",
       "    .dataframe thead th {\n",
       "        text-align: right;\n",
       "    }\n",
       "</style>\n",
       "<table border=\"1\" class=\"dataframe\">\n",
       "  <thead>\n",
       "    <tr style=\"text-align: right;\">\n",
       "      <th></th>\n",
       "      <th>Survived</th>\n",
       "    </tr>\n",
       "    <tr>\n",
       "      <th>SibSp</th>\n",
       "      <th></th>\n",
       "    </tr>\n",
       "  </thead>\n",
       "  <tbody>\n",
       "    <tr>\n",
       "      <th>1</th>\n",
       "      <td>0.535885</td>\n",
       "    </tr>\n",
       "    <tr>\n",
       "      <th>2</th>\n",
       "      <td>0.464286</td>\n",
       "    </tr>\n",
       "    <tr>\n",
       "      <th>0</th>\n",
       "      <td>0.345395</td>\n",
       "    </tr>\n",
       "    <tr>\n",
       "      <th>3</th>\n",
       "      <td>0.250000</td>\n",
       "    </tr>\n",
       "    <tr>\n",
       "      <th>4</th>\n",
       "      <td>0.166667</td>\n",
       "    </tr>\n",
       "    <tr>\n",
       "      <th>5</th>\n",
       "      <td>0.000000</td>\n",
       "    </tr>\n",
       "    <tr>\n",
       "      <th>8</th>\n",
       "      <td>0.000000</td>\n",
       "    </tr>\n",
       "  </tbody>\n",
       "</table>\n",
       "</div>"
      ],
      "text/plain": [
       "       Survived\n",
       "SibSp          \n",
       "1      0.535885\n",
       "2      0.464286\n",
       "0      0.345395\n",
       "3      0.250000\n",
       "4      0.166667\n",
       "5      0.000000\n",
       "8      0.000000"
      ]
     },
     "execution_count": 31,
     "metadata": {},
     "output_type": "execute_result"
    }
   ],
   "source": [
    "df[[\"SibSp\", \"Survived\"]].groupby(['SibSp']).mean().sort_values(by='Survived', ascending=False)"
   ]
  },
  {
   "cell_type": "code",
   "execution_count": 32,
   "id": "4309855a",
   "metadata": {
    "execution": {
     "iopub.execute_input": "2023-07-06T06:51:40.846675Z",
     "iopub.status.busy": "2023-07-06T06:51:40.846262Z",
     "iopub.status.idle": "2023-07-06T06:51:40.859933Z",
     "shell.execute_reply": "2023-07-06T06:51:40.858887Z"
    },
    "id": "cb3AyNPCctqS",
    "outputId": "73b936c2-949b-4d8d-cfc2-5122389bb0cb",
    "papermill": {
     "duration": 0.04117,
     "end_time": "2023-07-06T06:51:40.862082",
     "exception": false,
     "start_time": "2023-07-06T06:51:40.820912",
     "status": "completed"
    },
    "tags": []
   },
   "outputs": [
    {
     "data": {
      "text/html": [
       "<div>\n",
       "<style scoped>\n",
       "    .dataframe tbody tr th:only-of-type {\n",
       "        vertical-align: middle;\n",
       "    }\n",
       "\n",
       "    .dataframe tbody tr th {\n",
       "        vertical-align: top;\n",
       "    }\n",
       "\n",
       "    .dataframe thead th {\n",
       "        text-align: right;\n",
       "    }\n",
       "</style>\n",
       "<table border=\"1\" class=\"dataframe\">\n",
       "  <thead>\n",
       "    <tr style=\"text-align: right;\">\n",
       "      <th></th>\n",
       "      <th>Survived</th>\n",
       "    </tr>\n",
       "    <tr>\n",
       "      <th>Parch</th>\n",
       "      <th></th>\n",
       "    </tr>\n",
       "  </thead>\n",
       "  <tbody>\n",
       "    <tr>\n",
       "      <th>3</th>\n",
       "      <td>0.600000</td>\n",
       "    </tr>\n",
       "    <tr>\n",
       "      <th>1</th>\n",
       "      <td>0.550847</td>\n",
       "    </tr>\n",
       "    <tr>\n",
       "      <th>2</th>\n",
       "      <td>0.500000</td>\n",
       "    </tr>\n",
       "    <tr>\n",
       "      <th>0</th>\n",
       "      <td>0.343658</td>\n",
       "    </tr>\n",
       "    <tr>\n",
       "      <th>5</th>\n",
       "      <td>0.200000</td>\n",
       "    </tr>\n",
       "    <tr>\n",
       "      <th>4</th>\n",
       "      <td>0.000000</td>\n",
       "    </tr>\n",
       "    <tr>\n",
       "      <th>6</th>\n",
       "      <td>0.000000</td>\n",
       "    </tr>\n",
       "  </tbody>\n",
       "</table>\n",
       "</div>"
      ],
      "text/plain": [
       "       Survived\n",
       "Parch          \n",
       "3      0.600000\n",
       "1      0.550847\n",
       "2      0.500000\n",
       "0      0.343658\n",
       "5      0.200000\n",
       "4      0.000000\n",
       "6      0.000000"
      ]
     },
     "execution_count": 32,
     "metadata": {},
     "output_type": "execute_result"
    }
   ],
   "source": [
    "df[[\"Parch\", \"Survived\"]].groupby(['Parch']).mean().sort_values(by='Survived', ascending=False)"
   ]
  },
  {
   "cell_type": "code",
   "execution_count": 33,
   "id": "a82493e3",
   "metadata": {
    "execution": {
     "iopub.execute_input": "2023-07-06T06:51:40.910738Z",
     "iopub.status.busy": "2023-07-06T06:51:40.910332Z",
     "iopub.status.idle": "2023-07-06T06:51:40.951388Z",
     "shell.execute_reply": "2023-07-06T06:51:40.950591Z"
    },
    "id": "7vOtm5rbdQ9K",
    "outputId": "9025db43-3ace-4c0a-b3ef-9a3f6cb70cc8",
    "papermill": {
     "duration": 0.06813,
     "end_time": "2023-07-06T06:51:40.953590",
     "exception": false,
     "start_time": "2023-07-06T06:51:40.885460",
     "status": "completed"
    },
    "tags": []
   },
   "outputs": [
    {
     "data": {
      "text/html": [
       "<div>\n",
       "<style scoped>\n",
       "    .dataframe tbody tr th:only-of-type {\n",
       "        vertical-align: middle;\n",
       "    }\n",
       "\n",
       "    .dataframe tbody tr th {\n",
       "        vertical-align: top;\n",
       "    }\n",
       "\n",
       "    .dataframe thead th {\n",
       "        text-align: right;\n",
       "    }\n",
       "</style>\n",
       "<table border=\"1\" class=\"dataframe\">\n",
       "  <thead>\n",
       "    <tr style=\"text-align: right;\">\n",
       "      <th></th>\n",
       "      <th></th>\n",
       "      <th>Sex</th>\n",
       "      <th>0</th>\n",
       "      <th>1</th>\n",
       "    </tr>\n",
       "    <tr>\n",
       "      <th>Embarked</th>\n",
       "      <th>Pclass</th>\n",
       "      <th>SibSp</th>\n",
       "      <th></th>\n",
       "      <th></th>\n",
       "    </tr>\n",
       "  </thead>\n",
       "  <tbody>\n",
       "    <tr>\n",
       "      <th rowspan=\"15\" valign=\"top\">0</th>\n",
       "      <th rowspan=\"4\" valign=\"top\">1</th>\n",
       "      <th>0</th>\n",
       "      <td>1.000000</td>\n",
       "      <td>0.321429</td>\n",
       "    </tr>\n",
       "    <tr>\n",
       "      <th>1</th>\n",
       "      <td>0.904762</td>\n",
       "      <td>0.428571</td>\n",
       "    </tr>\n",
       "    <tr>\n",
       "      <th>2</th>\n",
       "      <td>1.000000</td>\n",
       "      <td>1.000000</td>\n",
       "    </tr>\n",
       "    <tr>\n",
       "      <th>3</th>\n",
       "      <td>1.000000</td>\n",
       "      <td>0.000000</td>\n",
       "    </tr>\n",
       "    <tr>\n",
       "      <th rowspan=\"4\" valign=\"top\">2</th>\n",
       "      <th>0</th>\n",
       "      <td>0.925000</td>\n",
       "      <td>0.100000</td>\n",
       "    </tr>\n",
       "    <tr>\n",
       "      <th>1</th>\n",
       "      <td>0.869565</td>\n",
       "      <td>0.318182</td>\n",
       "    </tr>\n",
       "    <tr>\n",
       "      <th>2</th>\n",
       "      <td>1.000000</td>\n",
       "      <td>0.200000</td>\n",
       "    </tr>\n",
       "    <tr>\n",
       "      <th>3</th>\n",
       "      <td>1.000000</td>\n",
       "      <td>NaN</td>\n",
       "    </tr>\n",
       "    <tr>\n",
       "      <th rowspan=\"7\" valign=\"top\">3</th>\n",
       "      <th>0</th>\n",
       "      <td>0.487805</td>\n",
       "      <td>0.130435</td>\n",
       "    </tr>\n",
       "    <tr>\n",
       "      <th>1</th>\n",
       "      <td>0.384615</td>\n",
       "      <td>0.187500</td>\n",
       "    </tr>\n",
       "    <tr>\n",
       "      <th>2</th>\n",
       "      <td>0.000000</td>\n",
       "      <td>0.000000</td>\n",
       "    </tr>\n",
       "    <tr>\n",
       "      <th>3</th>\n",
       "      <td>0.125000</td>\n",
       "      <td>0.000000</td>\n",
       "    </tr>\n",
       "    <tr>\n",
       "      <th>4</th>\n",
       "      <td>0.333333</td>\n",
       "      <td>0.125000</td>\n",
       "    </tr>\n",
       "    <tr>\n",
       "      <th>5</th>\n",
       "      <td>0.000000</td>\n",
       "      <td>0.000000</td>\n",
       "    </tr>\n",
       "    <tr>\n",
       "      <th>8</th>\n",
       "      <td>0.000000</td>\n",
       "      <td>0.000000</td>\n",
       "    </tr>\n",
       "    <tr>\n",
       "      <th rowspan=\"8\" valign=\"top\">1</th>\n",
       "      <th rowspan=\"3\" valign=\"top\">1</th>\n",
       "      <th>0</th>\n",
       "      <td>0.956522</td>\n",
       "      <td>0.343750</td>\n",
       "    </tr>\n",
       "    <tr>\n",
       "      <th>1</th>\n",
       "      <td>1.000000</td>\n",
       "      <td>0.600000</td>\n",
       "    </tr>\n",
       "    <tr>\n",
       "      <th>2</th>\n",
       "      <td>1.000000</td>\n",
       "      <td>NaN</td>\n",
       "    </tr>\n",
       "    <tr>\n",
       "      <th rowspan=\"2\" valign=\"top\">2</th>\n",
       "      <th>0</th>\n",
       "      <td>1.000000</td>\n",
       "      <td>0.400000</td>\n",
       "    </tr>\n",
       "    <tr>\n",
       "      <th>1</th>\n",
       "      <td>1.000000</td>\n",
       "      <td>0.000000</td>\n",
       "    </tr>\n",
       "    <tr>\n",
       "      <th rowspan=\"3\" valign=\"top\">3</th>\n",
       "      <th>0</th>\n",
       "      <td>0.692308</td>\n",
       "      <td>0.176471</td>\n",
       "    </tr>\n",
       "    <tr>\n",
       "      <th>1</th>\n",
       "      <td>0.428571</td>\n",
       "      <td>0.500000</td>\n",
       "    </tr>\n",
       "    <tr>\n",
       "      <th>2</th>\n",
       "      <td>1.000000</td>\n",
       "      <td>0.000000</td>\n",
       "    </tr>\n",
       "    <tr>\n",
       "      <th rowspan=\"7\" valign=\"top\">2</th>\n",
       "      <th rowspan=\"2\" valign=\"top\">1</th>\n",
       "      <th>1</th>\n",
       "      <td>1.000000</td>\n",
       "      <td>NaN</td>\n",
       "    </tr>\n",
       "    <tr>\n",
       "      <th>2</th>\n",
       "      <td>NaN</td>\n",
       "      <td>0.000000</td>\n",
       "    </tr>\n",
       "    <tr>\n",
       "      <th>2</th>\n",
       "      <th>0</th>\n",
       "      <td>1.000000</td>\n",
       "      <td>0.000000</td>\n",
       "    </tr>\n",
       "    <tr>\n",
       "      <th rowspan=\"4\" valign=\"top\">3</th>\n",
       "      <th>0</th>\n",
       "      <td>0.703704</td>\n",
       "      <td>0.068966</td>\n",
       "    </tr>\n",
       "    <tr>\n",
       "      <th>1</th>\n",
       "      <td>0.800000</td>\n",
       "      <td>0.000000</td>\n",
       "    </tr>\n",
       "    <tr>\n",
       "      <th>2</th>\n",
       "      <td>1.000000</td>\n",
       "      <td>1.000000</td>\n",
       "    </tr>\n",
       "    <tr>\n",
       "      <th>4</th>\n",
       "      <td>NaN</td>\n",
       "      <td>0.000000</td>\n",
       "    </tr>\n",
       "    <tr>\n",
       "      <th>0</th>\n",
       "      <th>1</th>\n",
       "      <th>0</th>\n",
       "      <td>1.000000</td>\n",
       "      <td>NaN</td>\n",
       "    </tr>\n",
       "  </tbody>\n",
       "</table>\n",
       "</div>"
      ],
      "text/plain": [
       "Sex                           0         1\n",
       "Embarked Pclass SibSp                    \n",
       "0        1      0      1.000000  0.321429\n",
       "                1      0.904762  0.428571\n",
       "                2      1.000000  1.000000\n",
       "                3      1.000000  0.000000\n",
       "         2      0      0.925000  0.100000\n",
       "                1      0.869565  0.318182\n",
       "                2      1.000000  0.200000\n",
       "                3      1.000000       NaN\n",
       "         3      0      0.487805  0.130435\n",
       "                1      0.384615  0.187500\n",
       "                2      0.000000  0.000000\n",
       "                3      0.125000  0.000000\n",
       "                4      0.333333  0.125000\n",
       "                5      0.000000  0.000000\n",
       "                8      0.000000  0.000000\n",
       "1        1      0      0.956522  0.343750\n",
       "                1      1.000000  0.600000\n",
       "                2      1.000000       NaN\n",
       "         2      0      1.000000  0.400000\n",
       "                1      1.000000  0.000000\n",
       "         3      0      0.692308  0.176471\n",
       "                1      0.428571  0.500000\n",
       "                2      1.000000  0.000000\n",
       "2        1      1      1.000000       NaN\n",
       "                2           NaN  0.000000\n",
       "         2      0      1.000000  0.000000\n",
       "         3      0      0.703704  0.068966\n",
       "                1      0.800000  0.000000\n",
       "                2      1.000000  1.000000\n",
       "                4           NaN  0.000000\n",
       "0        1      0      1.000000       NaN"
      ]
     },
     "execution_count": 33,
     "metadata": {},
     "output_type": "execute_result"
    }
   ],
   "source": [
    "pivot =df.pivot_table(\"Survived\",index = [\"Embarked\",\"Pclass\",\"SibSp\"], columns = \"Sex\")\n",
    "pivot"
   ]
  },
  {
   "cell_type": "code",
   "execution_count": 34,
   "id": "0be9aadb",
   "metadata": {
    "execution": {
     "iopub.execute_input": "2023-07-06T06:51:41.003452Z",
     "iopub.status.busy": "2023-07-06T06:51:41.003021Z",
     "iopub.status.idle": "2023-07-06T06:51:41.368864Z",
     "shell.execute_reply": "2023-07-06T06:51:41.367662Z"
    },
    "id": "-R_7YexpmLcN",
    "outputId": "3ef9ae65-e479-405d-f163-1ade1930de8c",
    "papermill": {
     "duration": 0.394439,
     "end_time": "2023-07-06T06:51:41.371920",
     "exception": false,
     "start_time": "2023-07-06T06:51:40.977481",
     "status": "completed"
    },
    "tags": []
   },
   "outputs": [
    {
     "data": {
      "text/plain": [
       "array([<Axes: ylabel='count'>], dtype=object)"
      ]
     },
     "execution_count": 34,
     "metadata": {},
     "output_type": "execute_result"
    },
    {
     "data": {
      "image/png": "[encoded data removed]",
      "text/plain": [
       "<Figure size 900x900 with 1 Axes>"
      ]
     },
     "metadata": {},
     "output_type": "display_data"
    }
   ],
   "source": [
    "df.groupby('Pclass')['Survived'].agg(['count']).sort_values(by='count',ascending=False).plot(kind='pie',autopct='%1.2f%%',subplots=True,title='Pclass',figsize=(9,9))\n"
   ]
  },
  {
   "cell_type": "code",
   "execution_count": 35,
   "id": "fb95242a",
   "metadata": {
    "execution": {
     "iopub.execute_input": "2023-07-06T06:51:41.423942Z",
     "iopub.status.busy": "2023-07-06T06:51:41.423534Z",
     "iopub.status.idle": "2023-07-06T06:51:42.704440Z",
     "shell.execute_reply": "2023-07-06T06:51:42.703197Z"
    },
    "id": "Ry1KxqSTVOZR",
    "outputId": "ed0863a6-cc73-4482-b215-bd050c5d7d35",
    "papermill": {
     "duration": 1.309416,
     "end_time": "2023-07-06T06:51:42.706864",
     "exception": false,
     "start_time": "2023-07-06T06:51:41.397448",
     "status": "completed"
    },
    "tags": []
   },
   "outputs": [
    {
     "data": {
      "text/plain": [
       "array([<Axes: ylabel='count'>], dtype=object)"
      ]
     },
     "execution_count": 35,
     "metadata": {},
     "output_type": "execute_result"
    },
    {
     "data": {
      "image/png": "[encoded data removed]",
      "text/plain": [
       "<Figure size 900x900 with 1 Axes>"
      ]
     },
     "metadata": {},
     "output_type": "display_data"
    },
    {
     "data": {
      "image/png": "[encoded data removed]",
      "text/plain": [
       "<Figure size 900x900 with 1 Axes>"
      ]
     },
     "metadata": {},
     "output_type": "display_data"
    },
    {
     "data": {
      "image/png": "[encoded data removed]",
      "text/plain": [
       "<Figure size 900x900 with 1 Axes>"
      ]
     },
     "metadata": {},
     "output_type": "display_data"
    },
    {
     "data": {
      "image/png": "[encoded data removed]",
      "text/plain": [
       "<Figure size 900x900 with 1 Axes>"
      ]
     },
     "metadata": {},
     "output_type": "display_data"
    }
   ],
   "source": [
    "df.groupby('Embarked')['Survived'].agg(['count']).sort_values(by='count',ascending=False).plot(kind='pie',autopct='%1.2f%%',subplots=True,title='Embarked',figsize=(9,9))\n",
    "df.groupby('SibSp')['Survived'].agg(['count']).sort_values(by='count',ascending=False).plot(kind='pie',autopct='%1.2f%%',subplots=True,title='SibSp',figsize=(9,9))\n",
    "df.groupby('Parch')['Survived'].agg(['count']).sort_values(by='count',ascending=False).plot(kind='pie',autopct='%1.2f%%',subplots=True,title='Parch',figsize=(9,9))\n",
    "df.groupby('Sex')['Survived'].agg(['count']).sort_values(by='count',ascending=False).plot(kind='pie',autopct='%1.2f%%',subplots=True,title='Sex',figsize=(9,9))\n",
    "\n"
   ]
  },
  {
   "cell_type": "markdown",
   "id": "21d880f1",
   "metadata": {
    "id": "BvOVWKR_WhL7",
    "papermill": {
     "duration": 0.029878,
     "end_time": "2023-07-06T06:51:42.764673",
     "exception": false,
     "start_time": "2023-07-06T06:51:42.734795",
     "status": "completed"
    },
    "tags": []
   },
   "source": [
    "CONCLUSION:\n",
    " * It seems that the more you are in a upper class, the more you are likely to survive.\n",
    " * Being a female gives a lot of chance to survive compare to male.\n",
    " * Being from Cherbourg is a factor a survival. Southampton decreases your chance of survival. This is surprising!\n",
    " * Pclass and Sex has a great correlation with the survival of people -> Keep them as features\n",
    " * SibSp & Parch require engineering.\n",
    " * Having a lot of family makes you less likely to survive. Let's engineer this feature later!"
   ]
  },
  {
   "cell_type": "markdown",
   "id": "e733d182",
   "metadata": {
    "id": "w94V9X8qwi3L",
    "papermill": {
     "duration": 0.027536,
     "end_time": "2023-07-06T06:51:42.819599",
     "exception": false,
     "start_time": "2023-07-06T06:51:42.792063",
     "status": "completed"
    },
    "tags": []
   },
   "source": [
    "## correaltion\n"
   ]
  },
  {
   "cell_type": "code",
   "execution_count": 36,
   "id": "bc7604f1",
   "metadata": {
    "execution": {
     "iopub.execute_input": "2023-07-06T06:51:42.876740Z",
     "iopub.status.busy": "2023-07-06T06:51:42.875915Z",
     "iopub.status.idle": "2023-07-06T06:51:42.892928Z",
     "shell.execute_reply": "2023-07-06T06:51:42.892104Z"
    },
    "id": "SJv8VDtxw7Lz",
    "outputId": "a54c1f97-1a33-4c45-bd61-2078deb7af26",
    "papermill": {
     "duration": 0.048103,
     "end_time": "2023-07-06T06:51:42.895037",
     "exception": false,
     "start_time": "2023-07-06T06:51:42.846934",
     "status": "completed"
    },
    "tags": []
   },
   "outputs": [
    {
     "name": "stderr",
     "output_type": "stream",
     "text": [
      "/tmp/ipykernel_20/1886530979.py:1: FutureWarning: The default value of numeric_only in DataFrame.corr is deprecated. In a future version, it will default to False. Select only valid columns or specify the value of numeric_only to silence this warning.\n",
      "  df.corr()\n"
     ]
    },
    {
     "data": {
      "text/html": [
       "<div>\n",
       "<style scoped>\n",
       "    .dataframe tbody tr th:only-of-type {\n",
       "        vertical-align: middle;\n",
       "    }\n",
       "\n",
       "    .dataframe tbody tr th {\n",
       "        vertical-align: top;\n",
       "    }\n",
       "\n",
       "    .dataframe thead th {\n",
       "        text-align: right;\n",
       "    }\n",
       "</style>\n",
       "<table border=\"1\" class=\"dataframe\">\n",
       "  <thead>\n",
       "    <tr style=\"text-align: right;\">\n",
       "      <th></th>\n",
       "      <th>Survived</th>\n",
       "      <th>Pclass</th>\n",
       "      <th>Sex</th>\n",
       "      <th>Age</th>\n",
       "      <th>SibSp</th>\n",
       "      <th>Parch</th>\n",
       "    </tr>\n",
       "  </thead>\n",
       "  <tbody>\n",
       "    <tr>\n",
       "      <th>Survived</th>\n",
       "      <td>1.000000</td>\n",
       "      <td>-0.338481</td>\n",
       "      <td>-0.543351</td>\n",
       "      <td>-0.064910</td>\n",
       "      <td>-0.035322</td>\n",
       "      <td>0.081629</td>\n",
       "    </tr>\n",
       "    <tr>\n",
       "      <th>Pclass</th>\n",
       "      <td>-0.338481</td>\n",
       "      <td>1.000000</td>\n",
       "      <td>0.131900</td>\n",
       "      <td>-0.339898</td>\n",
       "      <td>0.083081</td>\n",
       "      <td>0.018443</td>\n",
       "    </tr>\n",
       "    <tr>\n",
       "      <th>Sex</th>\n",
       "      <td>-0.543351</td>\n",
       "      <td>0.131900</td>\n",
       "      <td>1.000000</td>\n",
       "      <td>0.081163</td>\n",
       "      <td>-0.114631</td>\n",
       "      <td>-0.245489</td>\n",
       "    </tr>\n",
       "    <tr>\n",
       "      <th>Age</th>\n",
       "      <td>-0.064910</td>\n",
       "      <td>-0.339898</td>\n",
       "      <td>0.081163</td>\n",
       "      <td>1.000000</td>\n",
       "      <td>-0.233296</td>\n",
       "      <td>-0.172482</td>\n",
       "    </tr>\n",
       "    <tr>\n",
       "      <th>SibSp</th>\n",
       "      <td>-0.035322</td>\n",
       "      <td>0.083081</td>\n",
       "      <td>-0.114631</td>\n",
       "      <td>-0.233296</td>\n",
       "      <td>1.000000</td>\n",
       "      <td>0.414838</td>\n",
       "    </tr>\n",
       "    <tr>\n",
       "      <th>Parch</th>\n",
       "      <td>0.081629</td>\n",
       "      <td>0.018443</td>\n",
       "      <td>-0.245489</td>\n",
       "      <td>-0.172482</td>\n",
       "      <td>0.414838</td>\n",
       "      <td>1.000000</td>\n",
       "    </tr>\n",
       "  </tbody>\n",
       "</table>\n",
       "</div>"
      ],
      "text/plain": [
       "          Survived    Pclass       Sex       Age     SibSp     Parch\n",
       "Survived  1.000000 -0.338481 -0.543351 -0.064910 -0.035322  0.081629\n",
       "Pclass   -0.338481  1.000000  0.131900 -0.339898  0.083081  0.018443\n",
       "Sex      -0.543351  0.131900  1.000000  0.081163 -0.114631 -0.245489\n",
       "Age      -0.064910 -0.339898  0.081163  1.000000 -0.233296 -0.172482\n",
       "SibSp    -0.035322  0.083081 -0.114631 -0.233296  1.000000  0.414838\n",
       "Parch     0.081629  0.018443 -0.245489 -0.172482  0.414838  1.000000"
      ]
     },
     "execution_count": 36,
     "metadata": {},
     "output_type": "execute_result"
    }
   ],
   "source": [
    "df.corr()\n"
   ]
  },
  {
   "cell_type": "code",
   "execution_count": 37,
   "id": "d891f5dc",
   "metadata": {
    "execution": {
     "iopub.execute_input": "2023-07-06T06:51:42.952826Z",
     "iopub.status.busy": "2023-07-06T06:51:42.952102Z",
     "iopub.status.idle": "2023-07-06T06:51:43.338251Z",
     "shell.execute_reply": "2023-07-06T06:51:43.336934Z"
    },
    "id": "isD8czOZwolj",
    "outputId": "58f91a8b-28ae-43ae-8c69-e254cc1632ed",
    "papermill": {
     "duration": 0.418255,
     "end_time": "2023-07-06T06:51:43.340844",
     "exception": false,
     "start_time": "2023-07-06T06:51:42.922589",
     "status": "completed"
    },
    "tags": []
   },
   "outputs": [
    {
     "name": "stderr",
     "output_type": "stream",
     "text": [
      "/tmp/ipykernel_20/58359773.py:1: FutureWarning: The default value of numeric_only in DataFrame.corr is deprecated. In a future version, it will default to False. Select only valid columns or specify the value of numeric_only to silence this warning.\n",
      "  sns.heatmap(df.corr())\n"
     ]
    },
    {
     "data": {
      "text/plain": [
       "<Axes: >"
      ]
     },
     "execution_count": 37,
     "metadata": {},
     "output_type": "execute_result"
    },
    {
     "data": {
      "image/png": "[encoded data removed]",
      "text/plain": [
       "<Figure size 640x480 with 2 Axes>"
      ]
     },
     "metadata": {},
     "output_type": "display_data"
    }
   ],
   "source": [
    "sns.heatmap(df.corr())"
   ]
  },
  {
   "cell_type": "code",
   "execution_count": 38,
   "id": "92b4d485",
   "metadata": {
    "execution": {
     "iopub.execute_input": "2023-07-06T06:51:43.399001Z",
     "iopub.status.busy": "2023-07-06T06:51:43.398603Z",
     "iopub.status.idle": "2023-07-06T06:51:43.762943Z",
     "shell.execute_reply": "2023-07-06T06:51:43.761658Z"
    },
    "id": "NcoqOAIfw6Af",
    "papermill": {
     "duration": 0.396994,
     "end_time": "2023-07-06T06:51:43.766055",
     "exception": false,
     "start_time": "2023-07-06T06:51:43.369061",
     "status": "completed"
    },
    "tags": []
   },
   "outputs": [],
   "source": [
    "from sklearn.preprocessing import StandardScaler\n",
    "from sklearn.model_selection import train_test_split\n",
    "from sklearn import svm\n",
    "from sklearn.metrics import accuracy_score"
   ]
  },
  {
   "cell_type": "code",
   "execution_count": 39,
   "id": "4bbd443d",
   "metadata": {
    "execution": {
     "iopub.execute_input": "2023-07-06T06:51:43.824779Z",
     "iopub.status.busy": "2023-07-06T06:51:43.824395Z",
     "iopub.status.idle": "2023-07-06T06:51:43.838048Z",
     "shell.execute_reply": "2023-07-06T06:51:43.836987Z"
    },
    "papermill": {
     "duration": 0.045693,
     "end_time": "2023-07-06T06:51:43.840409",
     "exception": false,
     "start_time": "2023-07-06T06:51:43.794716",
     "status": "completed"
    },
    "tags": []
   },
   "outputs": [
    {
     "data": {
      "text/html": [
       "<div>\n",
       "<style scoped>\n",
       "    .dataframe tbody tr th:only-of-type {\n",
       "        vertical-align: middle;\n",
       "    }\n",
       "\n",
       "    .dataframe tbody tr th {\n",
       "        vertical-align: top;\n",
       "    }\n",
       "\n",
       "    .dataframe thead th {\n",
       "        text-align: right;\n",
       "    }\n",
       "</style>\n",
       "<table border=\"1\" class=\"dataframe\">\n",
       "  <thead>\n",
       "    <tr style=\"text-align: right;\">\n",
       "      <th></th>\n",
       "      <th>Sex</th>\n",
       "      <th>SibSp</th>\n",
       "      <th>Parch</th>\n",
       "      <th>Pclass</th>\n",
       "    </tr>\n",
       "  </thead>\n",
       "  <tbody>\n",
       "    <tr>\n",
       "      <th>0</th>\n",
       "      <td>1</td>\n",
       "      <td>1</td>\n",
       "      <td>0</td>\n",
       "      <td>3</td>\n",
       "    </tr>\n",
       "    <tr>\n",
       "      <th>1</th>\n",
       "      <td>0</td>\n",
       "      <td>1</td>\n",
       "      <td>0</td>\n",
       "      <td>1</td>\n",
       "    </tr>\n",
       "    <tr>\n",
       "      <th>2</th>\n",
       "      <td>0</td>\n",
       "      <td>0</td>\n",
       "      <td>0</td>\n",
       "      <td>3</td>\n",
       "    </tr>\n",
       "    <tr>\n",
       "      <th>3</th>\n",
       "      <td>0</td>\n",
       "      <td>1</td>\n",
       "      <td>0</td>\n",
       "      <td>1</td>\n",
       "    </tr>\n",
       "    <tr>\n",
       "      <th>4</th>\n",
       "      <td>1</td>\n",
       "      <td>0</td>\n",
       "      <td>0</td>\n",
       "      <td>3</td>\n",
       "    </tr>\n",
       "  </tbody>\n",
       "</table>\n",
       "</div>"
      ],
      "text/plain": [
       "   Sex  SibSp  Parch  Pclass\n",
       "0    1      1      0       3\n",
       "1    0      1      0       1\n",
       "2    0      0      0       3\n",
       "3    0      1      0       1\n",
       "4    1      0      0       3"
      ]
     },
     "execution_count": 39,
     "metadata": {},
     "output_type": "execute_result"
    }
   ],
   "source": [
    "X = pd.get_dummies(df[['Sex', 'SibSp', 'Parch', 'Pclass']])\n",
    "y = df['Survived']\n",
    "\n",
    "X.head(5)"
   ]
  },
  {
   "cell_type": "code",
   "execution_count": 40,
   "id": "bfa1120a",
   "metadata": {
    "execution": {
     "iopub.execute_input": "2023-07-06T06:51:43.899395Z",
     "iopub.status.busy": "2023-07-06T06:51:43.898952Z",
     "iopub.status.idle": "2023-07-06T06:51:43.907357Z",
     "shell.execute_reply": "2023-07-06T06:51:43.906191Z"
    },
    "id": "AHTHTVhSxAGA",
    "papermill": {
     "duration": 0.04078,
     "end_time": "2023-07-06T06:51:43.909624",
     "exception": false,
     "start_time": "2023-07-06T06:51:43.868844",
     "status": "completed"
    },
    "tags": []
   },
   "outputs": [],
   "source": [
    "X_train, X_test, y_train, y_test = train_test_split(X, y, test_size=0.3, random_state=42)"
   ]
  },
  {
   "cell_type": "code",
   "execution_count": 41,
   "id": "7bb32402",
   "metadata": {
    "execution": {
     "iopub.execute_input": "2023-07-06T06:51:43.969373Z",
     "iopub.status.busy": "2023-07-06T06:51:43.968964Z",
     "iopub.status.idle": "2023-07-06T06:51:43.974836Z",
     "shell.execute_reply": "2023-07-06T06:51:43.973520Z"
    },
    "id": "OmfR0d4ixC6r",
    "outputId": "8f175963-12ca-4973-ffff-d13c315ecfb6",
    "papermill": {
     "duration": 0.038893,
     "end_time": "2023-07-06T06:51:43.977285",
     "exception": false,
     "start_time": "2023-07-06T06:51:43.938392",
     "status": "completed"
    },
    "tags": []
   },
   "outputs": [
    {
     "name": "stdout",
     "output_type": "stream",
     "text": [
      "(623, 4) (268, 4)\n"
     ]
    }
   ],
   "source": [
    "print( X_train.shape, X_test.shape)"
   ]
  },
  {
   "cell_type": "code",
   "execution_count": 42,
   "id": "6ed6439c",
   "metadata": {
    "execution": {
     "iopub.execute_input": "2023-07-06T06:51:44.038075Z",
     "iopub.status.busy": "2023-07-06T06:51:44.036950Z",
     "iopub.status.idle": "2023-07-06T06:51:44.046705Z",
     "shell.execute_reply": "2023-07-06T06:51:44.045527Z"
    },
    "id": "i9O9eV7iNkXK",
    "outputId": "8c36913e-d3c7-403e-a736-c38bd6ebe282",
    "papermill": {
     "duration": 0.043373,
     "end_time": "2023-07-06T06:51:44.049465",
     "exception": false,
     "start_time": "2023-07-06T06:51:44.006092",
     "status": "completed"
    },
    "tags": []
   },
   "outputs": [
    {
     "data": {
      "text/plain": [
       "array([[1.],\n",
       "       [1.],\n",
       "       [0.]])"
      ]
     },
     "execution_count": 42,
     "metadata": {},
     "output_type": "execute_result"
    }
   ],
   "source": [
    "from numpy import asarray\n",
    "from sklearn.preprocessing import OrdinalEncoder\n",
    "\n",
    "X = np.reshape(['male', 'male', 'female'], (-1, 1))\n",
    "\n",
    "OrdinalEncoder().fit_transform(X)"
   ]
  },
  {
   "cell_type": "code",
   "execution_count": 43,
   "id": "c3ecc6e3",
   "metadata": {
    "execution": {
     "iopub.execute_input": "2023-07-06T06:51:44.109339Z",
     "iopub.status.busy": "2023-07-06T06:51:44.108710Z",
     "iopub.status.idle": "2023-07-06T06:51:44.113611Z",
     "shell.execute_reply": "2023-07-06T06:51:44.112530Z"
    },
    "id": "xEVa9XL1NAvK",
    "papermill": {
     "duration": 0.037644,
     "end_time": "2023-07-06T06:51:44.116102",
     "exception": false,
     "start_time": "2023-07-06T06:51:44.078458",
     "status": "completed"
    },
    "tags": []
   },
   "outputs": [],
   "source": [
    "classifier = svm.SVC(kernel='linear')"
   ]
  },
  {
   "cell_type": "code",
   "execution_count": 44,
   "id": "46a7851e",
   "metadata": {
    "execution": {
     "iopub.execute_input": "2023-07-06T06:51:44.175638Z",
     "iopub.status.busy": "2023-07-06T06:51:44.175274Z",
     "iopub.status.idle": "2023-07-06T06:51:44.199561Z",
     "shell.execute_reply": "2023-07-06T06:51:44.198378Z"
    },
    "id": "_4YPY78YNVa1",
    "outputId": "3e307bcb-85e9-4ca9-b0d0-c18aafc84c15",
    "papermill": {
     "duration": 0.057134,
     "end_time": "2023-07-06T06:51:44.202005",
     "exception": false,
     "start_time": "2023-07-06T06:51:44.144871",
     "status": "completed"
    },
    "tags": []
   },
   "outputs": [
    {
     "data": {
      "text/html": [
       "<style>#sk-container-id-1 {color: black;background-color: white;}#sk-container-id-1 pre{padding: 0;}#sk-container-id-1 div.sk-toggleable {background-color: white;}#sk-container-id-1 label.sk-toggleable__label {cursor: pointer;display: block;width: 100%;margin-bottom: 0;padding: 0.3em;box-sizing: border-box;text-align: center;}#sk-container-id-1 label.sk-toggleable__label-arrow:before {content: \"▸\";float: left;margin-right: 0.25em;color: #696969;}#sk-container-id-1 label.sk-toggleable__label-arrow:hover:before {color: black;}#sk-container-id-1 div.sk-estimator:hover label.sk-toggleable__label-arrow:before {color: black;}#sk-container-id-1 div.sk-toggleable__content {max-height: 0;max-width: 0;overflow: hidden;text-align: left;background-color: #f0f8ff;}#sk-container-id-1 div.sk-toggleable__content pre {margin: 0.2em;color: black;border-radius: 0.25em;background-color: #f0f8ff;}#sk-container-id-1 input.sk-toggleable__control:checked~div.sk-toggleable__content {max-height: 200px;max-width: 100%;overflow: auto;}#sk-container-id-1 input.sk-toggleable__control:checked~label.sk-toggleable__label-arrow:before {content: \"▾\";}#sk-container-id-1 div.sk-estimator input.sk-toggleable__control:checked~label.sk-toggleable__label {background-color: #d4ebff;}#sk-container-id-1 div.sk-label input.sk-toggleable__control:checked~label.sk-toggleable__label {background-color: #d4ebff;}#sk-container-id-1 input.sk-hidden--visually {border: 0;clip: rect(1px 1px 1px 1px);clip: rect(1px, 1px, 1px, 1px);height: 1px;margin: -1px;overflow: hidden;padding: 0;position: absolute;width: 1px;}#sk-container-id-1 div.sk-estimator {font-family: monospace;background-color: #f0f8ff;border: 1px dotted black;border-radius: 0.25em;box-sizing: border-box;margin-bottom: 0.5em;}#sk-container-id-1 div.sk-estimator:hover {background-color: #d4ebff;}#sk-container-id-1 div.sk-parallel-item::after {content: \"\";width: 100%;border-bottom: 1px solid gray;flex-grow: 1;}#sk-container-id-1 div.sk-label:hover label.sk-toggleable__label {background-color: #d4ebff;}#sk-container-id-1 div.sk-serial::before {content: \"\";position: absolute;border-left: 1px solid gray;box-sizing: border-box;top: 0;bottom: 0;left: 50%;z-index: 0;}#sk-container-id-1 div.sk-serial {display: flex;flex-direction: column;align-items: center;background-color: white;padding-right: 0.2em;padding-left: 0.2em;position: relative;}#sk-container-id-1 div.sk-item {position: relative;z-index: 1;}#sk-container-id-1 div.sk-parallel {display: flex;align-items: stretch;justify-content: center;background-color: white;position: relative;}#sk-container-id-1 div.sk-item::before, #sk-container-id-1 div.sk-parallel-item::before {content: \"\";position: absolute;border-left: 1px solid gray;box-sizing: border-box;top: 0;bottom: 0;left: 50%;z-index: -1;}#sk-container-id-1 div.sk-parallel-item {display: flex;flex-direction: column;z-index: 1;position: relative;background-color: white;}#sk-container-id-1 div.sk-parallel-item:first-child::after {align-self: flex-end;width: 50%;}#sk-container-id-1 div.sk-parallel-item:last-child::after {align-self: flex-start;width: 50%;}#sk-container-id-1 div.sk-parallel-item:only-child::after {width: 0;}#sk-container-id-1 div.sk-dashed-wrapped {border: 1px dashed gray;margin: 0 0.4em 0.5em 0.4em;box-sizing: border-box;padding-bottom: 0.4em;background-color: white;}#sk-container-id-1 div.sk-label label {font-family: monospace;font-weight: bold;display: inline-block;line-height: 1.2em;}#sk-container-id-1 div.sk-label-container {text-align: center;}#sk-container-id-1 div.sk-container {/* jupyter's `normalize.less` sets `[hidden] { display: none; }` but bootstrap.min.css set `[hidden] { display: none !important; }` so we also need the `!important` here to be able to override the default hidden behavior on the sphinx rendered scikit-learn.org. See: https://github.com/scikit-learn/scikit-learn/issues/21755 */display: inline-block !important;position: relative;}#sk-container-id-1 div.sk-text-repr-fallback {display: none;}</style><div id=\"sk-container-id-1\" class=\"sk-top-container\"><div class=\"sk-text-repr-fallback\"><pre>SVC(kernel=&#x27;linear&#x27;)</pre><b>In a Jupyter environment, please rerun this cell to show the HTML representation or trust the notebook. <br />On GitHub, the HTML representation is unable to render, please try loading this page with nbviewer.org.</b></div><div class=\"sk-container\" hidden><div class=\"sk-item\"><div class=\"sk-estimator sk-toggleable\"><input class=\"sk-toggleable__control sk-hidden--visually\" id=\"sk-estimator-id-1\" type=\"checkbox\" checked><label for=\"sk-estimator-id-1\" class=\"sk-toggleable__label sk-toggleable__label-arrow\">SVC</label><div class=\"sk-toggleable__content\"><pre>SVC(kernel=&#x27;linear&#x27;)</pre></div></div></div></div></div>"
      ],
      "text/plain": [
       "SVC(kernel='linear')"
      ]
     },
     "execution_count": 44,
     "metadata": {},
     "output_type": "execute_result"
    }
   ],
   "source": [
    "classifier.fit(X_train, y_train)"
   ]
  },
  {
   "cell_type": "code",
   "execution_count": 45,
   "id": "7dc96606",
   "metadata": {
    "execution": {
     "iopub.execute_input": "2023-07-06T06:51:44.264234Z",
     "iopub.status.busy": "2023-07-06T06:51:44.263841Z",
     "iopub.status.idle": "2023-07-06T06:51:44.276265Z",
     "shell.execute_reply": "2023-07-06T06:51:44.275279Z"
    },
    "id": "Nypw9GhNOIjb",
    "papermill": {
     "duration": 0.046243,
     "end_time": "2023-07-06T06:51:44.278840",
     "exception": false,
     "start_time": "2023-07-06T06:51:44.232597",
     "status": "completed"
    },
    "tags": []
   },
   "outputs": [],
   "source": [
    "X_train_prediction = classifier.predict(X_train)\n",
    "training_data_accuracy = accuracy_score(X_train_prediction, y_train)"
   ]
  },
  {
   "cell_type": "code",
   "execution_count": 46,
   "id": "92485df3",
   "metadata": {
    "execution": {
     "iopub.execute_input": "2023-07-06T06:51:44.339671Z",
     "iopub.status.busy": "2023-07-06T06:51:44.339103Z",
     "iopub.status.idle": "2023-07-06T06:51:44.345046Z",
     "shell.execute_reply": "2023-07-06T06:51:44.343903Z"
    },
    "id": "UgT1O0obRwbi",
    "outputId": "72ed2d37-61d4-4a48-fe9b-acf822d1fd37",
    "papermill": {
     "duration": 0.038815,
     "end_time": "2023-07-06T06:51:44.347293",
     "exception": false,
     "start_time": "2023-07-06T06:51:44.308478",
     "status": "completed"
    },
    "tags": []
   },
   "outputs": [
    {
     "name": "stdout",
     "output_type": "stream",
     "text": [
      "Accuracy score of the training data :  0.7849117174959872\n"
     ]
    }
   ],
   "source": [
    "print('Accuracy score of the training data : ', training_data_accuracy)"
   ]
  },
  {
   "cell_type": "code",
   "execution_count": 47,
   "id": "acb65532",
   "metadata": {
    "execution": {
     "iopub.execute_input": "2023-07-06T06:51:44.407171Z",
     "iopub.status.busy": "2023-07-06T06:51:44.406717Z",
     "iopub.status.idle": "2023-07-06T06:51:44.416026Z",
     "shell.execute_reply": "2023-07-06T06:51:44.415198Z"
    },
    "id": "quCMVtqKR4HK",
    "papermill": {
     "duration": 0.042346,
     "end_time": "2023-07-06T06:51:44.418366",
     "exception": false,
     "start_time": "2023-07-06T06:51:44.376020",
     "status": "completed"
    },
    "tags": []
   },
   "outputs": [],
   "source": [
    "X_test_prediction = classifier.predict(X_test)\n",
    "test_data_accuracy = accuracy_score(X_test_prediction, y_test)"
   ]
  },
  {
   "cell_type": "code",
   "execution_count": 48,
   "id": "509204e3",
   "metadata": {
    "execution": {
     "iopub.execute_input": "2023-07-06T06:51:44.478946Z",
     "iopub.status.busy": "2023-07-06T06:51:44.478560Z",
     "iopub.status.idle": "2023-07-06T06:51:44.484214Z",
     "shell.execute_reply": "2023-07-06T06:51:44.483077Z"
    },
    "id": "FC_J9zckR9QY",
    "outputId": "3cfbc486-834c-4342-9966-eab70da3753d",
    "papermill": {
     "duration": 0.038983,
     "end_time": "2023-07-06T06:51:44.486718",
     "exception": false,
     "start_time": "2023-07-06T06:51:44.447735",
     "status": "completed"
    },
    "tags": []
   },
   "outputs": [
    {
     "name": "stdout",
     "output_type": "stream",
     "text": [
      "Accuracy score of the test data :  0.7910447761194029\n"
     ]
    }
   ],
   "source": [
    "print('Accuracy score of the test data : ', test_data_accuracy)"
   ]
  },
  {
   "cell_type": "code",
   "execution_count": 49,
   "id": "6f1a00ab",
   "metadata": {
    "execution": {
     "iopub.execute_input": "2023-07-06T06:51:44.547565Z",
     "iopub.status.busy": "2023-07-06T06:51:44.547189Z",
     "iopub.status.idle": "2023-07-06T06:51:44.850524Z",
     "shell.execute_reply": "2023-07-06T06:51:44.849429Z"
    },
    "id": "ILEVDBWgSCaM",
    "papermill": {
     "duration": 0.337102,
     "end_time": "2023-07-06T06:51:44.853058",
     "exception": false,
     "start_time": "2023-07-06T06:51:44.515956",
     "status": "completed"
    },
    "tags": []
   },
   "outputs": [],
   "source": [
    "from sklearn.ensemble import RandomForestRegressor\n",
    "from sklearn.metrics import mean_squared_error\n",
    "from sklearn.metrics import explained_variance_score, mean_squared_error, r2_score\n",
    "\n",
    "rfr = RandomForestRegressor()"
   ]
  },
  {
   "cell_type": "code",
   "execution_count": 50,
   "id": "3afb7861",
   "metadata": {
    "execution": {
     "iopub.execute_input": "2023-07-06T06:51:44.915815Z",
     "iopub.status.busy": "2023-07-06T06:51:44.915381Z",
     "iopub.status.idle": "2023-07-06T06:51:45.167844Z",
     "shell.execute_reply": "2023-07-06T06:51:45.166669Z"
    },
    "id": "2wPUhASmSHv2",
    "papermill": {
     "duration": 0.287641,
     "end_time": "2023-07-06T06:51:45.170649",
     "exception": false,
     "start_time": "2023-07-06T06:51:44.883008",
     "status": "completed"
    },
    "tags": []
   },
   "outputs": [],
   "source": [
    "rfr.fit(X_train,y_train)\n",
    "y_pred =  rfr.predict(X_test)\n",
    "y_pred_train = rfr.predict(X_train)"
   ]
  },
  {
   "cell_type": "code",
   "execution_count": 51,
   "id": "8ad41b5e",
   "metadata": {
    "execution": {
     "iopub.execute_input": "2023-07-06T06:51:45.249501Z",
     "iopub.status.busy": "2023-07-06T06:51:45.247962Z",
     "iopub.status.idle": "2023-07-06T06:51:45.260420Z",
     "shell.execute_reply": "2023-07-06T06:51:45.259229Z"
    },
    "id": "hStLSFjHSMVJ",
    "outputId": "9c96fa1c-af38-47d5-e584-0adea7a3ab09",
    "papermill": {
     "duration": 0.055039,
     "end_time": "2023-07-06T06:51:45.263340",
     "exception": false,
     "start_time": "2023-07-06T06:51:45.208301",
     "status": "completed"
    },
    "tags": []
   },
   "outputs": [
    {
     "data": {
      "text/plain": [
       "array([0.41669287, 0.10659886, 0.12746968, 1.        , 0.44350309,\n",
       "       0.95358081, 0.55029457, 0.17128702, 0.55029457, 0.95411905,\n",
       "       0.40097516, 0.12746968, 0.03      , 0.12746968, 0.10659886,\n",
       "       1.        , 0.40097516, 0.55029457, 0.10659886, 0.28723212,\n",
       "       0.12746968, 0.28723212, 0.44350309, 0.12746968, 0.12746968,\n",
       "       0.27911905, 0.28723212, 0.10659886, 0.27911905, 0.55029457,\n",
       "       0.12746968, 0.55029457, 0.28723212, 0.55029457, 0.12746968,\n",
       "       0.16786244, 0.28723212, 0.55029457, 0.95358081, 0.12746968,\n",
       "       0.02509524, 0.16786244, 0.12746968, 0.12746968, 0.65123864,\n",
       "       0.31316667, 0.12746968, 0.12746968, 0.12746968, 0.91334524,\n",
       "       0.91754762, 1.        , 0.1012619 , 0.56641667, 0.12746968,\n",
       "       0.95411905, 0.10659886, 1.        , 1.        , 0.55029457,\n",
       "       0.12746968, 1.        , 0.82188636, 0.28723212, 0.12746968,\n",
       "       1.        , 0.10659886, 0.12746968, 0.41669287, 1.        ,\n",
       "       0.9975    , 0.56435714, 0.28723212, 1.        , 0.12746968,\n",
       "       0.16786244, 0.55029457, 0.95411905, 1.        , 0.64034546,\n",
       "       0.        , 1.        , 1.        , 0.12746968, 0.28723212,\n",
       "       0.28723212, 1.        , 0.95358081, 0.28723212, 0.12746968,\n",
       "       0.23833333, 0.61909524, 0.28723212, 0.12746968, 0.12746968,\n",
       "       0.12746968, 0.40097516, 0.12746968, 1.        , 0.12746968,\n",
       "       0.28723212, 0.12746968, 1.        , 0.12746968, 0.12746968,\n",
       "       0.16786244, 0.9975    , 0.28723212, 0.12746968, 0.28723212,\n",
       "       1.        , 0.12746968, 1.        , 0.28723212, 0.28723212,\n",
       "       0.12746968, 0.28723212, 0.10659886, 0.9975    , 0.31850397,\n",
       "       0.7916549 , 0.95358081, 1.        , 0.72      , 0.12746968,\n",
       "       0.28723212, 0.95358081, 0.28723212, 0.44350309, 0.12746968,\n",
       "       0.55029457, 0.41669287, 0.10659886, 0.55029457, 0.40097516,\n",
       "       0.44350309, 0.95358081, 0.12746968, 0.12746968, 0.44350309,\n",
       "       0.12746968, 0.82188636, 0.10659886, 0.09071314, 0.06347863,\n",
       "       0.9975    , 0.10659886, 0.10659886, 1.        , 0.12746968,\n",
       "       0.12746968, 0.12746968, 0.12746968, 0.44350309, 0.12746968,\n",
       "       0.12746968, 0.12746968, 0.55029457, 0.82188636, 0.59213898,\n",
       "       0.12746968, 0.28723212, 0.10659886, 1.        , 0.12746968,\n",
       "       0.18693723, 0.10659886, 1.        , 0.12746968, 0.12746968,\n",
       "       0.18693723, 1.        , 0.28723212, 0.59213898, 0.12746968,\n",
       "       0.12746968, 0.        , 1.        , 0.59213898, 0.28723212,\n",
       "       0.10659886, 0.12746968, 0.16786244, 0.61909524, 0.18693723,\n",
       "       0.28723212, 0.09071314, 0.12746968, 0.28723212, 1.        ,\n",
       "       0.41669287, 0.10659886, 0.16786244, 0.12746968, 1.        ,\n",
       "       1.        , 0.95358081, 0.10659886, 1.        , 0.61909524,\n",
       "       0.12746968, 0.55029457, 1.        , 0.55029457, 0.12746968,\n",
       "       0.64034546, 0.12746968, 0.56641667, 0.12746968, 0.12746968,\n",
       "       0.91334524, 0.12746968, 1.        , 0.12746968, 0.03      ,\n",
       "       0.10207937, 0.9975    , 0.18693723, 1.        , 0.12746968,\n",
       "       0.12746968, 1.        , 0.41669287, 0.28723212, 0.12746968,\n",
       "       1.        , 0.12746968, 0.56641667, 0.82188636, 0.55029457,\n",
       "       0.09071314, 0.56435714, 0.12746968, 0.55029457, 0.12746968,\n",
       "       0.55029457, 0.95358081, 0.55029457, 0.95358081, 0.10659886,\n",
       "       0.12746968, 0.82188636, 0.12746968, 0.55029457, 0.12746968,\n",
       "       0.12746968, 0.12746968, 0.12746968, 0.12746968, 0.28723212,\n",
       "       0.55029457, 0.72      , 0.12746968, 0.12746968, 0.15086346,\n",
       "       0.12746968, 0.12746968, 1.        , 0.10659886, 0.82188636,\n",
       "       0.95358081, 0.40097516, 1.        , 0.12746968, 0.28723212,\n",
       "       0.28723212, 0.12746968, 0.28723212])"
      ]
     },
     "execution_count": 51,
     "metadata": {},
     "output_type": "execute_result"
    }
   ],
   "source": [
    "y_pred"
   ]
  },
  {
   "cell_type": "code",
   "execution_count": 52,
   "id": "d9a33497",
   "metadata": {
    "execution": {
     "iopub.execute_input": "2023-07-06T06:51:45.331068Z",
     "iopub.status.busy": "2023-07-06T06:51:45.330639Z",
     "iopub.status.idle": "2023-07-06T06:51:45.354965Z",
     "shell.execute_reply": "2023-07-06T06:51:45.354194Z"
    },
    "id": "1xxfGaYJSQkT",
    "outputId": "12195e92-acef-4013-a5fb-60e96a35df7f",
    "papermill": {
     "duration": 0.059476,
     "end_time": "2023-07-06T06:51:45.357387",
     "exception": false,
     "start_time": "2023-07-06T06:51:45.297911",
     "status": "completed"
    },
    "tags": []
   },
   "outputs": [
    {
     "data": {
      "text/plain": [
       "0.4716951563543016"
      ]
     },
     "execution_count": 52,
     "metadata": {},
     "output_type": "execute_result"
    }
   ],
   "source": [
    "score = rfr.score(X_train,y_train)\n",
    "score"
   ]
  },
  {
   "cell_type": "code",
   "execution_count": 53,
   "id": "2fa89019",
   "metadata": {
    "execution": {
     "iopub.execute_input": "2023-07-06T06:51:45.421478Z",
     "iopub.status.busy": "2023-07-06T06:51:45.420313Z",
     "iopub.status.idle": "2023-07-06T06:51:45.441555Z",
     "shell.execute_reply": "2023-07-06T06:51:45.440764Z"
    },
    "id": "4E9JMjiWSU1C",
    "outputId": "0e3a9c58-88c1-46db-9523-4f93ba15c0aa",
    "papermill": {
     "duration": 0.05614,
     "end_time": "2023-07-06T06:51:45.443721",
     "exception": false,
     "start_time": "2023-07-06T06:51:45.387581",
     "status": "completed"
    },
    "tags": []
   },
   "outputs": [
    {
     "data": {
      "text/plain": [
       "0.3869146561433141"
      ]
     },
     "execution_count": 53,
     "metadata": {},
     "output_type": "execute_result"
    }
   ],
   "source": [
    "y_pred5 = rfr.predict(X_test)\n",
    "rscore=r2_score(y_test, y_pred)\n",
    "rscore"
   ]
  },
  {
   "cell_type": "code",
   "execution_count": 54,
   "id": "67dab3ca",
   "metadata": {
    "execution": {
     "iopub.execute_input": "2023-07-06T06:51:45.506388Z",
     "iopub.status.busy": "2023-07-06T06:51:45.505560Z",
     "iopub.status.idle": "2023-07-06T06:51:45.514202Z",
     "shell.execute_reply": "2023-07-06T06:51:45.512969Z"
    },
    "id": "t_9x6ZbwSa6d",
    "outputId": "168046bf-265b-46fb-eb84-38d95208df09",
    "papermill": {
     "duration": 0.042718,
     "end_time": "2023-07-06T06:51:45.516732",
     "exception": false,
     "start_time": "2023-07-06T06:51:45.474014",
     "status": "completed"
    },
    "tags": []
   },
   "outputs": [
    {
     "name": "stdout",
     "output_type": "stream",
     "text": [
      "Explained variance score: 0.39\n",
      "Mean squared error: 0.15\n",
      "Variance score: 0.39\n"
     ]
    }
   ],
   "source": [
    "print('Explained variance score: %.2f' % explained_variance_score(y_test, y_pred))\n",
    "print('Mean squared error: %.2f' % mean_squared_error(y_test, y_pred))\n",
    "print('Variance score: %.2f' % r2_score(y_test, y_pred))"
   ]
  },
  {
   "cell_type": "code",
   "execution_count": 55,
   "id": "925c22e1",
   "metadata": {
    "execution": {
     "iopub.execute_input": "2023-07-06T06:51:45.579311Z",
     "iopub.status.busy": "2023-07-06T06:51:45.578926Z",
     "iopub.status.idle": "2023-07-06T06:51:45.611797Z",
     "shell.execute_reply": "2023-07-06T06:51:45.610611Z"
    },
    "papermill": {
     "duration": 0.067494,
     "end_time": "2023-07-06T06:51:45.614384",
     "exception": false,
     "start_time": "2023-07-06T06:51:45.546890",
     "status": "completed"
    },
    "tags": []
   },
   "outputs": [
    {
     "data": {
      "text/html": [
       "<div>\n",
       "<style scoped>\n",
       "    .dataframe tbody tr th:only-of-type {\n",
       "        vertical-align: middle;\n",
       "    }\n",
       "\n",
       "    .dataframe tbody tr th {\n",
       "        vertical-align: top;\n",
       "    }\n",
       "\n",
       "    .dataframe thead th {\n",
       "        text-align: right;\n",
       "    }\n",
       "</style>\n",
       "<table border=\"1\" class=\"dataframe\">\n",
       "  <thead>\n",
       "    <tr style=\"text-align: right;\">\n",
       "      <th></th>\n",
       "      <th>PassengerId</th>\n",
       "      <th>Survived</th>\n",
       "    </tr>\n",
       "  </thead>\n",
       "  <tbody>\n",
       "    <tr>\n",
       "      <th>0</th>\n",
       "      <td>892</td>\n",
       "      <td>0</td>\n",
       "    </tr>\n",
       "    <tr>\n",
       "      <th>1</th>\n",
       "      <td>893</td>\n",
       "      <td>1</td>\n",
       "    </tr>\n",
       "    <tr>\n",
       "      <th>2</th>\n",
       "      <td>894</td>\n",
       "      <td>0</td>\n",
       "    </tr>\n",
       "    <tr>\n",
       "      <th>3</th>\n",
       "      <td>895</td>\n",
       "      <td>0</td>\n",
       "    </tr>\n",
       "    <tr>\n",
       "      <th>4</th>\n",
       "      <td>896</td>\n",
       "      <td>1</td>\n",
       "    </tr>\n",
       "    <tr>\n",
       "      <th>5</th>\n",
       "      <td>897</td>\n",
       "      <td>0</td>\n",
       "    </tr>\n",
       "    <tr>\n",
       "      <th>6</th>\n",
       "      <td>898</td>\n",
       "      <td>1</td>\n",
       "    </tr>\n",
       "    <tr>\n",
       "      <th>7</th>\n",
       "      <td>899</td>\n",
       "      <td>0</td>\n",
       "    </tr>\n",
       "    <tr>\n",
       "      <th>8</th>\n",
       "      <td>900</td>\n",
       "      <td>1</td>\n",
       "    </tr>\n",
       "    <tr>\n",
       "      <th>9</th>\n",
       "      <td>901</td>\n",
       "      <td>0</td>\n",
       "    </tr>\n",
       "  </tbody>\n",
       "</table>\n",
       "</div>"
      ],
      "text/plain": [
       "   PassengerId  Survived\n",
       "0          892         0\n",
       "1          893         1\n",
       "2          894         0\n",
       "3          895         0\n",
       "4          896         1\n",
       "5          897         0\n",
       "6          898         1\n",
       "7          899         0\n",
       "8          900         1\n",
       "9          901         0"
      ]
     },
     "execution_count": 55,
     "metadata": {},
     "output_type": "execute_result"
    }
   ],
   "source": [
    "test_df = pd.read_csv('/kaggle/input/titanic/test.csv')\n",
    "test_df.Sex=test_df.Sex.map({'female':0,'male':1})\n",
    "\n",
    "X_test = pd.get_dummies(test_df[['Sex', 'SibSp', 'Parch', 'Pclass']])\n",
    "\n",
    "\n",
    "model = classifier.fit(X_train,y_train)\n",
    "preds = model.predict(X_test)\n",
    "\n",
    "results = pd.DataFrame({\n",
    "    'PassengerId': test_df['PassengerId'], \n",
    "    'Survived': preds\n",
    "})\n",
    "\n",
    "results.head(10)"
   ]
  },
  {
   "cell_type": "code",
   "execution_count": 56,
   "id": "8e407ae2",
   "metadata": {
    "execution": {
     "iopub.execute_input": "2023-07-06T06:51:45.679477Z",
     "iopub.status.busy": "2023-07-06T06:51:45.678512Z",
     "iopub.status.idle": "2023-07-06T06:51:45.692083Z",
     "shell.execute_reply": "2023-07-06T06:51:45.690563Z"
    },
    "papermill": {
     "duration": 0.048699,
     "end_time": "2023-07-06T06:51:45.694611",
     "exception": false,
     "start_time": "2023-07-06T06:51:45.645912",
     "status": "completed"
    },
    "tags": []
   },
   "outputs": [
    {
     "name": "stdout",
     "output_type": "stream",
     "text": [
      "Successfully Created!\n"
     ]
    }
   ],
   "source": [
    "results.to_csv('submission.csv', index=False)\n",
    "print(\"Successfully Created!\")"
   ]
  },
  {
   "cell_type": "markdown",
   "id": "22b4c1d6",
   "metadata": {
    "id": "GMlajUabYdim",
    "papermill": {
     "duration": 0.030068,
     "end_time": "2023-07-06T06:51:45.755483",
     "exception": false,
     "start_time": "2023-07-06T06:51:45.725415",
     "status": "completed"
    },
    "tags": []
   },
   "source": [
    " completed"
   ]
  }
 ],
 "metadata": {
  "kernelspec": {
   "display_name": "Python 3",
   "language": "python",
   "name": "python3"
  },
  "language_info": {
   "codemirror_mode": {
    "name": "ipython",
    "version": 3
   },
   "file_extension": ".py",
   "mimetype": "text/x-python",
   "name": "python",
   "nbconvert_exporter": "python",
   "pygments_lexer": "ipython3",
   "version": "3.10.10"
  },
  "papermill": {
   "default_parameters": {},
   "duration": 21.2732,
   "end_time": "2023-07-06T06:51:46.808083",
   "environment_variables": {},
   "exception": null,
   "input_path": "__notebook__.ipynb",
   "output_path": "__notebook__.ipynb",
   "parameters": {},
   "start_time": "2023-07-06T06:51:25.534883",
   "version": "2.4.0"
  }
 },
 "nbformat": 4,
 "nbformat_minor": 5
}
